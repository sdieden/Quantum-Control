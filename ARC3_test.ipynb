{
 "cells": [
  {
   "cell_type": "code",
   "id": "8db0e54a-294a-419a-8dad-313547108b62",
   "metadata": {
    "ExecuteTime": {
     "end_time": "2024-10-18T10:38:50.415635Z",
     "start_time": "2024-10-18T10:38:45.889711Z"
    }
   },
   "source": [
    "#using https://arc-alkali-rydberg-calculator.readthedocs.io/en/latest/ARC_3_0_introduction.html#Preliminaries:-general-note-on-using-ARC-with-Alkaline-Earths\n",
    "# first we install most recent upgrade of arc\n",
    "!pip install ARC-Alkali-Rydberg-Calculator --upgrade --no-cache-dir"
   ],
   "outputs": [
    {
     "name": "stdout",
     "output_type": "stream",
     "text": [
      "Defaulting to user installation because normal site-packages is not writeable\n",
      "Requirement already satisfied: ARC-Alkali-Rydberg-Calculator in c:\\users\\samdi\\appdata\\local\\packages\\pythonsoftwarefoundation.python.3.12_qbz5n2kfra8p0\\localcache\\local-packages\\python312\\site-packages (3.6.0)\n",
      "Requirement already satisfied: scipy>=0.18.1 in c:\\users\\samdi\\appdata\\local\\packages\\pythonsoftwarefoundation.python.3.12_qbz5n2kfra8p0\\localcache\\local-packages\\python312\\site-packages (from ARC-Alkali-Rydberg-Calculator) (1.14.1)\n",
      "Requirement already satisfied: numpy>=1.19.3 in c:\\users\\samdi\\appdata\\local\\packages\\pythonsoftwarefoundation.python.3.12_qbz5n2kfra8p0\\localcache\\local-packages\\python312\\site-packages (from ARC-Alkali-Rydberg-Calculator) (2.1.2)\n",
      "Requirement already satisfied: matplotlib>=1.5.3 in c:\\users\\samdi\\appdata\\local\\packages\\pythonsoftwarefoundation.python.3.12_qbz5n2kfra8p0\\localcache\\local-packages\\python312\\site-packages (from ARC-Alkali-Rydberg-Calculator) (3.9.2)\n",
      "Requirement already satisfied: sympy>=1.1.1 in c:\\users\\samdi\\appdata\\local\\packages\\pythonsoftwarefoundation.python.3.12_qbz5n2kfra8p0\\localcache\\local-packages\\python312\\site-packages (from ARC-Alkali-Rydberg-Calculator) (1.13.3)\n",
      "Requirement already satisfied: lmfit>=0.9.0 in c:\\users\\samdi\\appdata\\local\\packages\\pythonsoftwarefoundation.python.3.12_qbz5n2kfra8p0\\localcache\\local-packages\\python312\\site-packages (from ARC-Alkali-Rydberg-Calculator) (1.3.2)\n",
      "Requirement already satisfied: asteval>=1.0 in c:\\users\\samdi\\appdata\\local\\packages\\pythonsoftwarefoundation.python.3.12_qbz5n2kfra8p0\\localcache\\local-packages\\python312\\site-packages (from lmfit>=0.9.0->ARC-Alkali-Rydberg-Calculator) (1.0.5)\n",
      "Requirement already satisfied: uncertainties>=3.2.2 in c:\\users\\samdi\\appdata\\local\\packages\\pythonsoftwarefoundation.python.3.12_qbz5n2kfra8p0\\localcache\\local-packages\\python312\\site-packages (from lmfit>=0.9.0->ARC-Alkali-Rydberg-Calculator) (3.2.2)\n",
      "Requirement already satisfied: dill>=0.3.4 in c:\\users\\samdi\\appdata\\local\\packages\\pythonsoftwarefoundation.python.3.12_qbz5n2kfra8p0\\localcache\\local-packages\\python312\\site-packages (from lmfit>=0.9.0->ARC-Alkali-Rydberg-Calculator) (0.3.9)\n",
      "Requirement already satisfied: contourpy>=1.0.1 in c:\\users\\samdi\\appdata\\local\\packages\\pythonsoftwarefoundation.python.3.12_qbz5n2kfra8p0\\localcache\\local-packages\\python312\\site-packages (from matplotlib>=1.5.3->ARC-Alkali-Rydberg-Calculator) (1.3.0)\n",
      "Requirement already satisfied: cycler>=0.10 in c:\\users\\samdi\\appdata\\local\\packages\\pythonsoftwarefoundation.python.3.12_qbz5n2kfra8p0\\localcache\\local-packages\\python312\\site-packages (from matplotlib>=1.5.3->ARC-Alkali-Rydberg-Calculator) (0.12.1)\n",
      "Requirement already satisfied: fonttools>=4.22.0 in c:\\users\\samdi\\appdata\\local\\packages\\pythonsoftwarefoundation.python.3.12_qbz5n2kfra8p0\\localcache\\local-packages\\python312\\site-packages (from matplotlib>=1.5.3->ARC-Alkali-Rydberg-Calculator) (4.54.1)\n",
      "Requirement already satisfied: kiwisolver>=1.3.1 in c:\\users\\samdi\\appdata\\local\\packages\\pythonsoftwarefoundation.python.3.12_qbz5n2kfra8p0\\localcache\\local-packages\\python312\\site-packages (from matplotlib>=1.5.3->ARC-Alkali-Rydberg-Calculator) (1.4.7)\n",
      "Requirement already satisfied: packaging>=20.0 in c:\\users\\samdi\\appdata\\local\\packages\\pythonsoftwarefoundation.python.3.12_qbz5n2kfra8p0\\localcache\\local-packages\\python312\\site-packages (from matplotlib>=1.5.3->ARC-Alkali-Rydberg-Calculator) (24.1)\n",
      "Requirement already satisfied: pillow>=8 in c:\\users\\samdi\\appdata\\local\\packages\\pythonsoftwarefoundation.python.3.12_qbz5n2kfra8p0\\localcache\\local-packages\\python312\\site-packages (from matplotlib>=1.5.3->ARC-Alkali-Rydberg-Calculator) (10.4.0)\n",
      "Requirement already satisfied: pyparsing>=2.3.1 in c:\\users\\samdi\\appdata\\local\\packages\\pythonsoftwarefoundation.python.3.12_qbz5n2kfra8p0\\localcache\\local-packages\\python312\\site-packages (from matplotlib>=1.5.3->ARC-Alkali-Rydberg-Calculator) (3.1.4)\n",
      "Requirement already satisfied: python-dateutil>=2.7 in c:\\users\\samdi\\appdata\\local\\packages\\pythonsoftwarefoundation.python.3.12_qbz5n2kfra8p0\\localcache\\local-packages\\python312\\site-packages (from matplotlib>=1.5.3->ARC-Alkali-Rydberg-Calculator) (2.9.0.post0)\n",
      "Requirement already satisfied: mpmath<1.4,>=1.1.0 in c:\\users\\samdi\\appdata\\local\\packages\\pythonsoftwarefoundation.python.3.12_qbz5n2kfra8p0\\localcache\\local-packages\\python312\\site-packages (from sympy>=1.1.1->ARC-Alkali-Rydberg-Calculator) (1.3.0)\n",
      "Requirement already satisfied: six>=1.5 in c:\\users\\samdi\\appdata\\local\\packages\\pythonsoftwarefoundation.python.3.12_qbz5n2kfra8p0\\localcache\\local-packages\\python312\\site-packages (from python-dateutil>=2.7->matplotlib>=1.5.3->ARC-Alkali-Rydberg-Calculator) (1.16.0)\n"
     ]
    }
   ],
   "execution_count": 1
  },
  {
   "cell_type": "code",
   "id": "016e62c6-d6e1-4691-b169-c32ff8648a15",
   "metadata": {
    "ExecuteTime": {
     "end_time": "2024-10-18T10:38:52.906267Z",
     "start_time": "2024-10-18T10:38:50.504141Z"
    }
   },
   "source": [
    "from arc import *"
   ],
   "outputs": [],
   "execution_count": 2
  },
  {
   "cell_type": "code",
   "id": "32d766a2-9515-41ce-9344-105c5e883f55",
   "metadata": {
    "ExecuteTime": {
     "end_time": "2024-10-18T10:38:53.799852Z",
     "start_time": "2024-10-18T10:38:53.794633Z"
    }
   },
   "source": [
    "import numpy as np\n",
    "import matplotlib.pyplot as plt"
   ],
   "outputs": [],
   "execution_count": 3
  },
  {
   "cell_type": "code",
   "id": "1ba9cfb7-0260-460c-8cfa-100ab9de5f03",
   "metadata": {
    "ExecuteTime": {
     "end_time": "2024-10-18T10:38:54.223292Z",
     "start_time": "2024-10-18T10:38:53.819237Z"
    }
   },
   "source": [
    "atom = Calcium40()\n",
    "print(\"QD\")\n",
    "atom.getQuantumDefect(6,3,3,0)\n",
    "\n"
   ],
   "outputs": [
    {
     "name": "stdout",
     "output_type": "stream",
     "text": [
      "QD\n"
     ]
    },
    {
     "data": {
      "text/plain": [
       "0.09128082390826674"
      ]
     },
     "execution_count": 4,
     "metadata": {},
     "output_type": "execute_result"
    }
   ],
   "execution_count": 4
  },
  {
   "cell_type": "code",
   "id": "f8945cf9-0d7d-4924-a1e6-8191bef48113",
   "metadata": {
    "ExecuteTime": {
     "end_time": "2024-10-18T10:38:54.419968Z",
     "start_time": "2024-10-18T10:38:54.357940Z"
    }
   },
   "source": [
    "atom = Calcium40(preferQuantumDefects=True)\n",
    "atom.getEnergy(62, 3, 3, s=0)"
   ],
   "outputs": [
    {
     "data": {
      "text/plain": [
       "-0.003550664537401035"
      ]
     },
     "execution_count": 5,
     "metadata": {},
     "output_type": "execute_result"
    }
   ],
   "execution_count": 5
  },
  {
   "cell_type": "code",
   "id": "77282416-0ba9-4f2d-878e-9e5e6a073f41",
   "metadata": {
    "ExecuteTime": {
     "end_time": "2024-10-18T10:38:56.094354Z",
     "start_time": "2024-10-18T10:38:54.534007Z"
    }
   },
   "source": [
    "## Stark Map\n",
    "\n",
    "calc = StarkMap(Calcium40())\n",
    "\n",
    "# Target state\n",
    "n0 = 10\n",
    "l0 = 2\n",
    "j0 = 2\n",
    "mj0 = 0\n",
    "# Define max/min n values in basis\n",
    "nmin = n0 - 5\n",
    "nmax = n0 + 5\n",
    "# Maximum value of l to include (l~20 gives good convergence for states with l<5)\n",
    "lmax = 20\n",
    "\n",
    "# Initialise Basis States for Solver : progressOutput=True gives verbose output\n",
    "calc.defineBasis(n0, l0, j0, mj0, nmin, nmax, lmax, progressOutput=True, s=1)\n",
    "\n",
    "Emin = 0.0  # Min E field (V/m)\n",
    "Emax = 4.0e2  # Max E field (V/m)\n",
    "N = 1001  # Number of Points\n",
    "\n",
    "# Generate Stark Map\n",
    "calc.diagonalise(np.linspace(Emin, Emax, N), progressOutput=True)\n",
    "# Show Sark Map\n",
    "calc.plotLevelDiagram(progressOutput=True, units=0, highlightState=True)\n",
    "calc.ax.set_ylim(-2914, -2904)\n",
    "calc.showPlot(interactive=False)\n",
    "# Return Polarizability of target state\n",
    "print(\n",
    "    \"%.5f MHz cm^2 / V^2 \"\n",
    "    % calc.getPolarizability(showPlot=True, minStateContribution=0.9)\n",
    ")"
   ],
   "outputs": [
    {
     "name": "stdout",
     "output_type": "stream",
     "text": [
      "Found  275  states.\n",
      "Generating matrix...\n",
      "0%"
     ]
    },
    {
     "ename": "ValueError",
     "evalue": "Quantum defects for requested state (n = 6, l = 1, j = 0.0, s=1.0) are uknown. Aborting calculation.",
     "output_type": "error",
     "traceback": [
      "\u001B[1;31m---------------------------------------------------------------------------\u001B[0m",
      "\u001B[1;31mValueError\u001B[0m                                Traceback (most recent call last)",
      "Cell \u001B[1;32mIn[6], line 17\u001B[0m\n\u001B[0;32m     14\u001B[0m lmax \u001B[38;5;241m=\u001B[39m \u001B[38;5;241m20\u001B[39m\n\u001B[0;32m     16\u001B[0m \u001B[38;5;66;03m# Initialise Basis States for Solver : progressOutput=True gives verbose output\u001B[39;00m\n\u001B[1;32m---> 17\u001B[0m \u001B[43mcalc\u001B[49m\u001B[38;5;241;43m.\u001B[39;49m\u001B[43mdefineBasis\u001B[49m\u001B[43m(\u001B[49m\u001B[43mn0\u001B[49m\u001B[43m,\u001B[49m\u001B[43m \u001B[49m\u001B[43ml0\u001B[49m\u001B[43m,\u001B[49m\u001B[43m \u001B[49m\u001B[43mj0\u001B[49m\u001B[43m,\u001B[49m\u001B[43m \u001B[49m\u001B[43mmj0\u001B[49m\u001B[43m,\u001B[49m\u001B[43m \u001B[49m\u001B[43mnmin\u001B[49m\u001B[43m,\u001B[49m\u001B[43m \u001B[49m\u001B[43mnmax\u001B[49m\u001B[43m,\u001B[49m\u001B[43m \u001B[49m\u001B[43mlmax\u001B[49m\u001B[43m,\u001B[49m\u001B[43m \u001B[49m\u001B[43mprogressOutput\u001B[49m\u001B[38;5;241;43m=\u001B[39;49m\u001B[38;5;28;43;01mTrue\u001B[39;49;00m\u001B[43m,\u001B[49m\u001B[43m \u001B[49m\u001B[43ms\u001B[49m\u001B[38;5;241;43m=\u001B[39;49m\u001B[38;5;241;43m1\u001B[39;49m\u001B[43m)\u001B[49m\n\u001B[0;32m     19\u001B[0m Emin \u001B[38;5;241m=\u001B[39m \u001B[38;5;241m0.0\u001B[39m  \u001B[38;5;66;03m# Min E field (V/m)\u001B[39;00m\n\u001B[0;32m     20\u001B[0m Emax \u001B[38;5;241m=\u001B[39m \u001B[38;5;241m4.0e2\u001B[39m  \u001B[38;5;66;03m# Max E field (V/m)\u001B[39;00m\n",
      "File \u001B[1;32m~\\AppData\\Local\\Packages\\PythonSoftwareFoundation.Python.3.12_qbz5n2kfra8p0\\LocalCache\\local-packages\\Python312\\site-packages\\arc\\calculations_atom_single.py:818\u001B[0m, in \u001B[0;36mStarkMap.defineBasis\u001B[1;34m(self, n, l, j, mj, nMin, nMax, maxL, Bz, progressOutput, debugOutput, s)\u001B[0m\n\u001B[0;32m    814\u001B[0m \u001B[38;5;66;03m# add off-diagonal element\u001B[39;00m\n\u001B[0;32m    816\u001B[0m \u001B[38;5;28;01mfor\u001B[39;00m jj \u001B[38;5;129;01min\u001B[39;00m xrange(ii \u001B[38;5;241m+\u001B[39m \u001B[38;5;241m1\u001B[39m, dimension):\n\u001B[0;32m    817\u001B[0m     coupling \u001B[38;5;241m=\u001B[39m (\n\u001B[1;32m--> 818\u001B[0m         \u001B[38;5;28;43mself\u001B[39;49m\u001B[38;5;241;43m.\u001B[39;49m\u001B[43m_eFieldCouplingDivE\u001B[49m\u001B[43m(\u001B[49m\n\u001B[0;32m    819\u001B[0m \u001B[43m            \u001B[49m\u001B[43mstates\u001B[49m\u001B[43m[\u001B[49m\u001B[43mii\u001B[49m\u001B[43m]\u001B[49m\u001B[43m[\u001B[49m\u001B[38;5;241;43m0\u001B[39;49m\u001B[43m]\u001B[49m\u001B[43m,\u001B[49m\n\u001B[0;32m    820\u001B[0m \u001B[43m            \u001B[49m\u001B[43mstates\u001B[49m\u001B[43m[\u001B[49m\u001B[43mii\u001B[49m\u001B[43m]\u001B[49m\u001B[43m[\u001B[49m\u001B[38;5;241;43m1\u001B[39;49m\u001B[43m]\u001B[49m\u001B[43m,\u001B[49m\n\u001B[0;32m    821\u001B[0m \u001B[43m            \u001B[49m\u001B[43mstates\u001B[49m\u001B[43m[\u001B[49m\u001B[43mii\u001B[49m\u001B[43m]\u001B[49m\u001B[43m[\u001B[49m\u001B[38;5;241;43m2\u001B[39;49m\u001B[43m]\u001B[49m\u001B[43m,\u001B[49m\n\u001B[0;32m    822\u001B[0m \u001B[43m            \u001B[49m\u001B[43mmj\u001B[49m\u001B[43m,\u001B[49m\n\u001B[0;32m    823\u001B[0m \u001B[43m            \u001B[49m\u001B[43mstates\u001B[49m\u001B[43m[\u001B[49m\u001B[43mjj\u001B[49m\u001B[43m]\u001B[49m\u001B[43m[\u001B[49m\u001B[38;5;241;43m0\u001B[39;49m\u001B[43m]\u001B[49m\u001B[43m,\u001B[49m\n\u001B[0;32m    824\u001B[0m \u001B[43m            \u001B[49m\u001B[43mstates\u001B[49m\u001B[43m[\u001B[49m\u001B[43mjj\u001B[49m\u001B[43m]\u001B[49m\u001B[43m[\u001B[49m\u001B[38;5;241;43m1\u001B[39;49m\u001B[43m]\u001B[49m\u001B[43m,\u001B[49m\n\u001B[0;32m    825\u001B[0m \u001B[43m            \u001B[49m\u001B[43mstates\u001B[49m\u001B[43m[\u001B[49m\u001B[43mjj\u001B[49m\u001B[43m]\u001B[49m\u001B[43m[\u001B[49m\u001B[38;5;241;43m2\u001B[39;49m\u001B[43m]\u001B[49m\u001B[43m,\u001B[49m\n\u001B[0;32m    826\u001B[0m \u001B[43m            \u001B[49m\u001B[43mmj\u001B[49m\u001B[43m,\u001B[49m\n\u001B[0;32m    827\u001B[0m \u001B[43m            \u001B[49m\u001B[43ms\u001B[49m\u001B[38;5;241;43m=\u001B[39;49m\u001B[38;5;28;43mself\u001B[39;49m\u001B[38;5;241;43m.\u001B[39;49m\u001B[43ms\u001B[49m\u001B[43m,\u001B[49m\n\u001B[0;32m    828\u001B[0m \u001B[43m        \u001B[49m\u001B[43m)\u001B[49m\n\u001B[0;32m    829\u001B[0m         \u001B[38;5;241m*\u001B[39m \u001B[38;5;241m1.0e-9\u001B[39m\n\u001B[0;32m    830\u001B[0m         \u001B[38;5;241m/\u001B[39m C_h\n\u001B[0;32m    831\u001B[0m     )\n\u001B[0;32m    832\u001B[0m     \u001B[38;5;28mself\u001B[39m\u001B[38;5;241m.\u001B[39mmat2[jj][ii] \u001B[38;5;241m=\u001B[39m coupling\n\u001B[0;32m    833\u001B[0m     \u001B[38;5;28mself\u001B[39m\u001B[38;5;241m.\u001B[39mmat2[ii][jj] \u001B[38;5;241m=\u001B[39m coupling\n",
      "File \u001B[1;32m~\\AppData\\Local\\Packages\\PythonSoftwareFoundation.Python.3.12_qbz5n2kfra8p0\\LocalCache\\local-packages\\Python312\\site-packages\\arc\\calculations_atom_single.py:658\u001B[0m, in \u001B[0;36mStarkMap._eFieldCouplingDivE\u001B[1;34m(self, n1, l1, j1, mj1, n2, l2, j2, mj2, s)\u001B[0m\n\u001B[0;32m    654\u001B[0m     \u001B[38;5;28;01mreturn\u001B[39;00m \u001B[38;5;241m0\u001B[39m\n\u001B[0;32m    656\u001B[0m \u001B[38;5;66;03m# matrix element\u001B[39;00m\n\u001B[0;32m    657\u001B[0m result \u001B[38;5;241m=\u001B[39m (\n\u001B[1;32m--> 658\u001B[0m     \u001B[38;5;28;43mself\u001B[39;49m\u001B[38;5;241;43m.\u001B[39;49m\u001B[43matom\u001B[49m\u001B[38;5;241;43m.\u001B[39;49m\u001B[43mgetRadialMatrixElement\u001B[49m\u001B[43m(\u001B[49m\u001B[43mn1\u001B[49m\u001B[43m,\u001B[49m\u001B[43m \u001B[49m\u001B[43ml1\u001B[49m\u001B[43m,\u001B[49m\u001B[43m \u001B[49m\u001B[43mj1\u001B[49m\u001B[43m,\u001B[49m\u001B[43m \u001B[49m\u001B[43mn2\u001B[49m\u001B[43m,\u001B[49m\u001B[43m \u001B[49m\u001B[43ml2\u001B[49m\u001B[43m,\u001B[49m\u001B[43m \u001B[49m\u001B[43mj2\u001B[49m\u001B[43m,\u001B[49m\u001B[43m \u001B[49m\u001B[43ms\u001B[49m\u001B[38;5;241;43m=\u001B[39;49m\u001B[43ms\u001B[49m\u001B[43m)\u001B[49m\n\u001B[0;32m    659\u001B[0m     \u001B[38;5;241m*\u001B[39m physical_constants[\u001B[38;5;124m\"\u001B[39m\u001B[38;5;124mBohr radius\u001B[39m\u001B[38;5;124m\"\u001B[39m][\u001B[38;5;241m0\u001B[39m]\n\u001B[0;32m    660\u001B[0m     \u001B[38;5;241m*\u001B[39m C_e\n\u001B[0;32m    661\u001B[0m )\n\u001B[0;32m    663\u001B[0m sumPart \u001B[38;5;241m=\u001B[39m \u001B[38;5;28mself\u001B[39m\u001B[38;5;241m.\u001B[39meFieldCouplingSaved\u001B[38;5;241m.\u001B[39mgetAngular(\n\u001B[0;32m    664\u001B[0m     l1, j1, mj1, l2, j2, mj2, s\u001B[38;5;241m=\u001B[39ms\n\u001B[0;32m    665\u001B[0m )\n\u001B[0;32m    666\u001B[0m \u001B[38;5;28;01mreturn\u001B[39;00m result \u001B[38;5;241m*\u001B[39m sumPart\n",
      "File \u001B[1;32m~\\AppData\\Local\\Packages\\PythonSoftwareFoundation.Python.3.12_qbz5n2kfra8p0\\LocalCache\\local-packages\\Python312\\site-packages\\arc\\divalent_atom_functions.py:403\u001B[0m, in \u001B[0;36mDivalentAtom.getRadialMatrixElement\u001B[1;34m(self, n1, l1, j1, n2, l2, j2, s, useLiterature)\u001B[0m\n\u001B[0;32m    400\u001B[0m \u001B[38;5;28;01mif\u001B[39;00m \u001B[38;5;129;01mnot\u001B[39;00m (dl \u001B[38;5;241m==\u001B[39m \u001B[38;5;241m1\u001B[39m \u001B[38;5;129;01mand\u001B[39;00m (dj \u001B[38;5;241m<\u001B[39m \u001B[38;5;241m1.1\u001B[39m)):\n\u001B[0;32m    401\u001B[0m     \u001B[38;5;28;01mreturn\u001B[39;00m \u001B[38;5;241m0\u001B[39m\n\u001B[1;32m--> 403\u001B[0m \u001B[38;5;28;01mif\u001B[39;00m \u001B[38;5;28mself\u001B[39m\u001B[38;5;241m.\u001B[39mgetEnergy(n1, l1, j1, s\u001B[38;5;241m=\u001B[39ms) \u001B[38;5;241m>\u001B[39m \u001B[38;5;28;43mself\u001B[39;49m\u001B[38;5;241;43m.\u001B[39;49m\u001B[43mgetEnergy\u001B[49m\u001B[43m(\u001B[49m\u001B[43mn2\u001B[49m\u001B[43m,\u001B[49m\u001B[43m \u001B[49m\u001B[43ml2\u001B[49m\u001B[43m,\u001B[49m\u001B[43m \u001B[49m\u001B[43mj2\u001B[49m\u001B[43m,\u001B[49m\u001B[43m \u001B[49m\u001B[43ms\u001B[49m\u001B[38;5;241;43m=\u001B[39;49m\u001B[43ms\u001B[49m\u001B[43m)\u001B[49m:\n\u001B[0;32m    404\u001B[0m     temp \u001B[38;5;241m=\u001B[39m n1\n\u001B[0;32m    405\u001B[0m     n1 \u001B[38;5;241m=\u001B[39m n2\n",
      "File \u001B[1;32m~\\AppData\\Local\\Packages\\PythonSoftwareFoundation.Python.3.12_qbz5n2kfra8p0\\LocalCache\\local-packages\\Python312\\site-packages\\arc\\divalent_atom_functions.py:346\u001B[0m, in \u001B[0;36mDivalentAtom.getEnergy\u001B[1;34m(self, n, l, j, s)\u001B[0m\n\u001B[0;32m    343\u001B[0m             \u001B[38;5;28mself\u001B[39m\u001B[38;5;241m.\u001B[39menergyLevelsExtrapolated \u001B[38;5;241m=\u001B[39m \u001B[38;5;28;01mTrue\u001B[39;00m\n\u001B[0;32m    345\u001B[0m \u001B[38;5;66;03m# else, use quantum defects\u001B[39;00m\n\u001B[1;32m--> 346\u001B[0m defect \u001B[38;5;241m=\u001B[39m \u001B[38;5;28;43mself\u001B[39;49m\u001B[38;5;241;43m.\u001B[39;49m\u001B[43mgetQuantumDefect\u001B[49m\u001B[43m(\u001B[49m\u001B[43mn\u001B[49m\u001B[43m,\u001B[49m\u001B[43m \u001B[49m\u001B[43ml\u001B[49m\u001B[43m,\u001B[49m\u001B[43m \u001B[49m\u001B[43mj\u001B[49m\u001B[43m,\u001B[49m\u001B[43m \u001B[49m\u001B[43ms\u001B[49m\u001B[38;5;241;43m=\u001B[39;49m\u001B[43ms\u001B[49m\u001B[43m)\u001B[49m\n\u001B[0;32m    347\u001B[0m \u001B[38;5;28;01mreturn\u001B[39;00m \u001B[38;5;241m-\u001B[39m\u001B[38;5;28mself\u001B[39m\u001B[38;5;241m.\u001B[39mscaledRydbergConstant \u001B[38;5;241m/\u001B[39m ((n \u001B[38;5;241m-\u001B[39m defect) \u001B[38;5;241m*\u001B[39m\u001B[38;5;241m*\u001B[39m \u001B[38;5;241m2\u001B[39m)\n",
      "File \u001B[1;32m~\\AppData\\Local\\Packages\\PythonSoftwareFoundation.Python.3.12_qbz5n2kfra8p0\\LocalCache\\local-packages\\Python312\\site-packages\\arc\\alkali_atom_functions.py:831\u001B[0m, in \u001B[0;36mAlkaliAtom.getQuantumDefect\u001B[1;34m(self, n, l, j, s)\u001B[0m\n\u001B[0;32m    828\u001B[0m     modifiedRRcoef \u001B[38;5;241m=\u001B[39m \u001B[38;5;28mself\u001B[39m\u001B[38;5;241m.\u001B[39mquantumDefect[\u001B[38;5;28mround\u001B[39m(floor(s) \u001B[38;5;241m+\u001B[39m s \u001B[38;5;241m+\u001B[39m j \u001B[38;5;241m-\u001B[39m l)][l]\n\u001B[0;32m    829\u001B[0m     \u001B[38;5;28;01mif\u001B[39;00m l \u001B[38;5;241m<\u001B[39m \u001B[38;5;241m3\u001B[39m \u001B[38;5;129;01mand\u001B[39;00m \u001B[38;5;28mabs\u001B[39m(modifiedRRcoef[\u001B[38;5;241m0\u001B[39m]) \u001B[38;5;241m<\u001B[39m \u001B[38;5;241m1e-9\u001B[39m \u001B[38;5;129;01mand\u001B[39;00m \u001B[38;5;28mself\u001B[39m\u001B[38;5;241m.\u001B[39mZ \u001B[38;5;241m!=\u001B[39m \u001B[38;5;241m1\u001B[39m:\n\u001B[0;32m    830\u001B[0m         \u001B[38;5;66;03m# it's not Hydrogen but for l in {s,p,d} quantum defect is 0\u001B[39;00m\n\u001B[1;32m--> 831\u001B[0m         \u001B[38;5;28;01mraise\u001B[39;00m \u001B[38;5;167;01mValueError\u001B[39;00m(\n\u001B[0;32m    832\u001B[0m             \u001B[38;5;124m\"\u001B[39m\u001B[38;5;124mQuantum defects for requested state \u001B[39m\u001B[38;5;124m\"\u001B[39m\n\u001B[0;32m    833\u001B[0m             \u001B[38;5;241m+\u001B[39m (\u001B[38;5;124m\"\u001B[39m\u001B[38;5;124m(n = \u001B[39m\u001B[38;5;132;01m%d\u001B[39;00m\u001B[38;5;124m, l = \u001B[39m\u001B[38;5;132;01m%d\u001B[39;00m\u001B[38;5;124m, j = \u001B[39m\u001B[38;5;132;01m%.1f\u001B[39;00m\u001B[38;5;124m, s=\u001B[39m\u001B[38;5;132;01m%.1f\u001B[39;00m\u001B[38;5;124m) are\u001B[39m\u001B[38;5;124m\"\u001B[39m \u001B[38;5;241m%\u001B[39m (n, l, j, s))\n\u001B[0;32m    834\u001B[0m             \u001B[38;5;241m+\u001B[39m \u001B[38;5;124m\"\u001B[39m\u001B[38;5;124m uknown. Aborting calculation.\u001B[39m\u001B[38;5;124m\"\u001B[39m\n\u001B[0;32m    835\u001B[0m         )\n\u001B[0;32m    836\u001B[0m     defect \u001B[38;5;241m=\u001B[39m (\n\u001B[0;32m    837\u001B[0m         modifiedRRcoef[\u001B[38;5;241m0\u001B[39m]\n\u001B[0;32m    838\u001B[0m         \u001B[38;5;241m+\u001B[39m modifiedRRcoef[\u001B[38;5;241m1\u001B[39m] \u001B[38;5;241m/\u001B[39m ((n \u001B[38;5;241m-\u001B[39m modifiedRRcoef[\u001B[38;5;241m0\u001B[39m]) \u001B[38;5;241m*\u001B[39m\u001B[38;5;241m*\u001B[39m \u001B[38;5;241m2\u001B[39m)\n\u001B[1;32m   (...)\u001B[0m\n\u001B[0;32m    842\u001B[0m         \u001B[38;5;241m+\u001B[39m modifiedRRcoef[\u001B[38;5;241m5\u001B[39m] \u001B[38;5;241m/\u001B[39m ((n \u001B[38;5;241m-\u001B[39m modifiedRRcoef[\u001B[38;5;241m0\u001B[39m]) \u001B[38;5;241m*\u001B[39m\u001B[38;5;241m*\u001B[39m \u001B[38;5;241m10\u001B[39m)\n\u001B[0;32m    843\u001B[0m     )\n\u001B[0;32m    844\u001B[0m \u001B[38;5;28;01melse\u001B[39;00m:\n\u001B[0;32m    845\u001B[0m     \u001B[38;5;66;03m# use \\delta_\\ell = \\delta_g * (4/\\ell)**5\u001B[39;00m\n\u001B[0;32m    846\u001B[0m     \u001B[38;5;66;03m# from https://journals.aps.org/pra/abstract/10.1103/PhysRevA.74.062712\u001B[39;00m\n",
      "\u001B[1;31mValueError\u001B[0m: Quantum defects for requested state (n = 6, l = 1, j = 0.0, s=1.0) are uknown. Aborting calculation."
     ]
    }
   ],
   "execution_count": 6
  },
  {
   "cell_type": "code",
   "execution_count": 33,
   "id": "75f775e1-3b46-4e11-b39b-21e2dc625cd4",
   "metadata": {},
   "outputs": [
    {
     "name": "stdout",
     "output_type": "stream",
     "text": [
      "Requirement already satisfied: ARC-Alkali-Rydberg-Calculator in d:\\memoire\\memoire\\anaconda\\lib\\site-packages (3.6.0)\n",
      "Requirement already satisfied: scipy>=0.18.1 in d:\\memoire\\memoire\\anaconda\\lib\\site-packages (from ARC-Alkali-Rydberg-Calculator) (1.13.1)\n",
      "Requirement already satisfied: numpy>=1.19.3 in d:\\memoire\\memoire\\anaconda\\lib\\site-packages (from ARC-Alkali-Rydberg-Calculator) (1.26.4)\n",
      "Requirement already satisfied: matplotlib>=1.5.3 in d:\\memoire\\memoire\\anaconda\\lib\\site-packages (from ARC-Alkali-Rydberg-Calculator) (3.8.4)\n",
      "Requirement already satisfied: sympy>=1.1.1 in d:\\memoire\\memoire\\anaconda\\lib\\site-packages (from ARC-Alkali-Rydberg-Calculator) (1.12)\n",
      "Requirement already satisfied: lmfit>=0.9.0 in d:\\memoire\\memoire\\anaconda\\lib\\site-packages (from ARC-Alkali-Rydberg-Calculator) (1.3.2)\n",
      "Requirement already satisfied: asteval>=1.0 in d:\\memoire\\memoire\\anaconda\\lib\\site-packages (from lmfit>=0.9.0->ARC-Alkali-Rydberg-Calculator) (1.0.5)\n",
      "Requirement already satisfied: uncertainties>=3.2.2 in d:\\memoire\\memoire\\anaconda\\lib\\site-packages (from lmfit>=0.9.0->ARC-Alkali-Rydberg-Calculator) (3.2.2)\n",
      "Requirement already satisfied: dill>=0.3.4 in d:\\memoire\\memoire\\anaconda\\lib\\site-packages (from lmfit>=0.9.0->ARC-Alkali-Rydberg-Calculator) (0.3.8)\n",
      "Requirement already satisfied: contourpy>=1.0.1 in d:\\memoire\\memoire\\anaconda\\lib\\site-packages (from matplotlib>=1.5.3->ARC-Alkali-Rydberg-Calculator) (1.2.0)\n",
      "Requirement already satisfied: cycler>=0.10 in d:\\memoire\\memoire\\anaconda\\lib\\site-packages (from matplotlib>=1.5.3->ARC-Alkali-Rydberg-Calculator) (0.11.0)\n",
      "Requirement already satisfied: fonttools>=4.22.0 in d:\\memoire\\memoire\\anaconda\\lib\\site-packages (from matplotlib>=1.5.3->ARC-Alkali-Rydberg-Calculator) (4.51.0)\n",
      "Requirement already satisfied: kiwisolver>=1.3.1 in d:\\memoire\\memoire\\anaconda\\lib\\site-packages (from matplotlib>=1.5.3->ARC-Alkali-Rydberg-Calculator) (1.4.4)\n",
      "Requirement already satisfied: packaging>=20.0 in c:\\users\\samdi\\appdata\\roaming\\python\\python312\\site-packages (from matplotlib>=1.5.3->ARC-Alkali-Rydberg-Calculator) (24.1)\n",
      "Requirement already satisfied: pillow>=8 in d:\\memoire\\memoire\\anaconda\\lib\\site-packages (from matplotlib>=1.5.3->ARC-Alkali-Rydberg-Calculator) (10.3.0)\n",
      "Requirement already satisfied: pyparsing>=2.3.1 in d:\\memoire\\memoire\\anaconda\\lib\\site-packages (from matplotlib>=1.5.3->ARC-Alkali-Rydberg-Calculator) (3.0.9)\n",
      "Requirement already satisfied: python-dateutil>=2.7 in c:\\users\\samdi\\appdata\\roaming\\python\\python312\\site-packages (from matplotlib>=1.5.3->ARC-Alkali-Rydberg-Calculator) (2.9.0.post0)\n",
      "Requirement already satisfied: mpmath>=0.19 in d:\\memoire\\memoire\\anaconda\\lib\\site-packages (from sympy>=1.1.1->ARC-Alkali-Rydberg-Calculator) (1.3.0)\n",
      "Requirement already satisfied: six>=1.5 in c:\\users\\samdi\\appdata\\roaming\\python\\python312\\site-packages (from python-dateutil>=2.7->matplotlib>=1.5.3->ARC-Alkali-Rydberg-Calculator) (1.16.0)\n"
     ]
    }
   ],
   "source": [
    "!pip install ARC-Alkali-Rydberg-Calculator --upgrade --no-cache-dir"
   ]
  },
  {
   "cell_type": "code",
   "execution_count": 32,
   "id": "ee9353c6-d3ad-4d07-8346-79917de7d339",
   "metadata": {},
   "outputs": [
    {
     "name": "stdout",
     "output_type": "stream",
     "text": [
      "Error reading dipoleMatrixElement File C:\\Users\\samdi\\.arc-data\\NIST_ca_dipole_matrix_elements.npy\n",
      "[Errno 2] No such file or directory: 'C:\\\\Users\\\\samdi\\\\.arc-data\\\\NIST_ca_dipole_matrix_elements.npy'\n",
      "Error reading quadrupoleMatrixElementFile File C:\\Users\\samdi\\.arc-data\\NIST_ca_quadrupole_matrix_elements.npy\n",
      "[Errno 2] No such file or directory: 'C:\\\\Users\\\\samdi\\\\.arc-data\\\\NIST_ca_quadrupole_matrix_elements.npy'\n"
     ]
    },
    {
     "ename": "ValueError",
     "evalue": "Quantum defects for requested state (n = 30, l = 1, j = 0.0, s=1.0) are uknown. Aborting calculation.",
     "output_type": "error",
     "traceback": [
      "\u001B[1;31m---------------------------------------------------------------------------\u001B[0m",
      "\u001B[1;31mValueError\u001B[0m                                Traceback (most recent call last)",
      "Cell \u001B[1;32mIn[32], line 2\u001B[0m\n\u001B[0;32m      1\u001B[0m atom \u001B[38;5;241m=\u001B[39m Calcium40(preferQuantumDefects\u001B[38;5;241m=\u001B[39m\u001B[38;5;28;01mFalse\u001B[39;00m)\n\u001B[1;32m----> 2\u001B[0m \u001B[43matom\u001B[49m\u001B[38;5;241;43m.\u001B[39;49m\u001B[43mgetEnergy\u001B[49m\u001B[43m(\u001B[49m\u001B[38;5;241;43m30\u001B[39;49m\u001B[43m,\u001B[49m\u001B[38;5;241;43m1\u001B[39;49m\u001B[43m,\u001B[49m\u001B[38;5;241;43m0\u001B[39;49m\u001B[43m,\u001B[49m\u001B[38;5;241;43m1\u001B[39;49m\u001B[43m)\u001B[49m\n",
      "File \u001B[1;32mD:\\Memoire\\Memoire\\Anaconda\\Lib\\site-packages\\arc\\divalent_atom_functions.py:346\u001B[0m, in \u001B[0;36mDivalentAtom.getEnergy\u001B[1;34m(self, n, l, j, s)\u001B[0m\n\u001B[0;32m    343\u001B[0m             \u001B[38;5;28mself\u001B[39m\u001B[38;5;241m.\u001B[39menergyLevelsExtrapolated \u001B[38;5;241m=\u001B[39m \u001B[38;5;28;01mTrue\u001B[39;00m\n\u001B[0;32m    345\u001B[0m \u001B[38;5;66;03m# else, use quantum defects\u001B[39;00m\n\u001B[1;32m--> 346\u001B[0m defect \u001B[38;5;241m=\u001B[39m \u001B[38;5;28;43mself\u001B[39;49m\u001B[38;5;241;43m.\u001B[39;49m\u001B[43mgetQuantumDefect\u001B[49m\u001B[43m(\u001B[49m\u001B[43mn\u001B[49m\u001B[43m,\u001B[49m\u001B[43m \u001B[49m\u001B[43ml\u001B[49m\u001B[43m,\u001B[49m\u001B[43m \u001B[49m\u001B[43mj\u001B[49m\u001B[43m,\u001B[49m\u001B[43m \u001B[49m\u001B[43ms\u001B[49m\u001B[38;5;241;43m=\u001B[39;49m\u001B[43ms\u001B[49m\u001B[43m)\u001B[49m\n\u001B[0;32m    347\u001B[0m \u001B[38;5;28;01mreturn\u001B[39;00m \u001B[38;5;241m-\u001B[39m\u001B[38;5;28mself\u001B[39m\u001B[38;5;241m.\u001B[39mscaledRydbergConstant \u001B[38;5;241m/\u001B[39m ((n \u001B[38;5;241m-\u001B[39m defect) \u001B[38;5;241m*\u001B[39m\u001B[38;5;241m*\u001B[39m \u001B[38;5;241m2\u001B[39m)\n",
      "File \u001B[1;32mD:\\Memoire\\Memoire\\Anaconda\\Lib\\site-packages\\arc\\alkali_atom_functions.py:831\u001B[0m, in \u001B[0;36mAlkaliAtom.getQuantumDefect\u001B[1;34m(self, n, l, j, s)\u001B[0m\n\u001B[0;32m    828\u001B[0m     modifiedRRcoef \u001B[38;5;241m=\u001B[39m \u001B[38;5;28mself\u001B[39m\u001B[38;5;241m.\u001B[39mquantumDefect[\u001B[38;5;28mround\u001B[39m(floor(s) \u001B[38;5;241m+\u001B[39m s \u001B[38;5;241m+\u001B[39m j \u001B[38;5;241m-\u001B[39m l)][l]\n\u001B[0;32m    829\u001B[0m     \u001B[38;5;28;01mif\u001B[39;00m l \u001B[38;5;241m<\u001B[39m \u001B[38;5;241m3\u001B[39m \u001B[38;5;129;01mand\u001B[39;00m \u001B[38;5;28mabs\u001B[39m(modifiedRRcoef[\u001B[38;5;241m0\u001B[39m]) \u001B[38;5;241m<\u001B[39m \u001B[38;5;241m1e-9\u001B[39m \u001B[38;5;129;01mand\u001B[39;00m \u001B[38;5;28mself\u001B[39m\u001B[38;5;241m.\u001B[39mZ \u001B[38;5;241m!=\u001B[39m \u001B[38;5;241m1\u001B[39m:\n\u001B[0;32m    830\u001B[0m         \u001B[38;5;66;03m# it's not Hydrogen but for l in {s,p,d} quantum defect is 0\u001B[39;00m\n\u001B[1;32m--> 831\u001B[0m         \u001B[38;5;28;01mraise\u001B[39;00m \u001B[38;5;167;01mValueError\u001B[39;00m(\n\u001B[0;32m    832\u001B[0m             \u001B[38;5;124m\"\u001B[39m\u001B[38;5;124mQuantum defects for requested state \u001B[39m\u001B[38;5;124m\"\u001B[39m\n\u001B[0;32m    833\u001B[0m             \u001B[38;5;241m+\u001B[39m (\u001B[38;5;124m\"\u001B[39m\u001B[38;5;124m(n = \u001B[39m\u001B[38;5;132;01m%d\u001B[39;00m\u001B[38;5;124m, l = \u001B[39m\u001B[38;5;132;01m%d\u001B[39;00m\u001B[38;5;124m, j = \u001B[39m\u001B[38;5;132;01m%.1f\u001B[39;00m\u001B[38;5;124m, s=\u001B[39m\u001B[38;5;132;01m%.1f\u001B[39;00m\u001B[38;5;124m) are\u001B[39m\u001B[38;5;124m\"\u001B[39m \u001B[38;5;241m%\u001B[39m (n, l, j, s))\n\u001B[0;32m    834\u001B[0m             \u001B[38;5;241m+\u001B[39m \u001B[38;5;124m\"\u001B[39m\u001B[38;5;124m uknown. Aborting calculation.\u001B[39m\u001B[38;5;124m\"\u001B[39m\n\u001B[0;32m    835\u001B[0m         )\n\u001B[0;32m    836\u001B[0m     defect \u001B[38;5;241m=\u001B[39m (\n\u001B[0;32m    837\u001B[0m         modifiedRRcoef[\u001B[38;5;241m0\u001B[39m]\n\u001B[0;32m    838\u001B[0m         \u001B[38;5;241m+\u001B[39m modifiedRRcoef[\u001B[38;5;241m1\u001B[39m] \u001B[38;5;241m/\u001B[39m ((n \u001B[38;5;241m-\u001B[39m modifiedRRcoef[\u001B[38;5;241m0\u001B[39m]) \u001B[38;5;241m*\u001B[39m\u001B[38;5;241m*\u001B[39m \u001B[38;5;241m2\u001B[39m)\n\u001B[1;32m   (...)\u001B[0m\n\u001B[0;32m    842\u001B[0m         \u001B[38;5;241m+\u001B[39m modifiedRRcoef[\u001B[38;5;241m5\u001B[39m] \u001B[38;5;241m/\u001B[39m ((n \u001B[38;5;241m-\u001B[39m modifiedRRcoef[\u001B[38;5;241m0\u001B[39m]) \u001B[38;5;241m*\u001B[39m\u001B[38;5;241m*\u001B[39m \u001B[38;5;241m10\u001B[39m)\n\u001B[0;32m    843\u001B[0m     )\n\u001B[0;32m    844\u001B[0m \u001B[38;5;28;01melse\u001B[39;00m:\n\u001B[0;32m    845\u001B[0m     \u001B[38;5;66;03m# use \\delta_\\ell = \\delta_g * (4/\\ell)**5\u001B[39;00m\n\u001B[0;32m    846\u001B[0m     \u001B[38;5;66;03m# from https://journals.aps.org/pra/abstract/10.1103/PhysRevA.74.062712\u001B[39;00m\n",
      "\u001B[1;31mValueError\u001B[0m: Quantum defects for requested state (n = 30, l = 1, j = 0.0, s=1.0) are uknown. Aborting calculation."
     ]
    }
   ],
   "source": [
    "atom = Calcium40(preferQuantumDefects=False)\n",
    "atom.getEnergy(30,1,0,1)\n"
   ]
  },
  {
   "cell_type": "code",
   "execution_count": 81,
   "id": "0350cbe0-f9bb-4a95-bc76-988d579ce3ce",
   "metadata": {},
   "outputs": [
    {
     "ename": "SyntaxError",
     "evalue": "invalid syntax (2015456594.py, line 1)",
     "output_type": "error",
     "traceback": [
      "\u001B[1;36m  Cell \u001B[1;32mIn[81], line 1\u001B[1;36m\u001B[0m\n\u001B[1;33m    Python -m pdb script\u001B[0m\n\u001B[1;37m              ^\u001B[0m\n\u001B[1;31mSyntaxError\u001B[0m\u001B[1;31m:\u001B[0m invalid syntax\n"
     ]
    }
   ],
   "source": []
  },
  {
   "cell_type": "code",
   "execution_count": null,
   "id": "d0106d7c-7b0f-42ae-9a6d-1ece160b36e7",
   "metadata": {},
   "outputs": [],
   "source": []
  }
 ],
 "metadata": {
  "kernelspec": {
   "display_name": "Python 3 (ipykernel)",
   "language": "python",
   "name": "python3"
  },
  "language_info": {
   "codemirror_mode": {
    "name": "ipython",
    "version": 3
   },
   "file_extension": ".py",
   "mimetype": "text/x-python",
   "name": "python",
   "nbconvert_exporter": "python",
   "pygments_lexer": "ipython3",
   "version": "3.12.4"
  }
 },
 "nbformat": 4,
 "nbformat_minor": 5
}
