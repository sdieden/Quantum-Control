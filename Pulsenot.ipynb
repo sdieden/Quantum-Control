{
 "cells": [
  {
   "cell_type": "code",
   "id": "initial_id",
   "metadata": {
    "ExecuteTime": {
     "end_time": "2025-03-26T12:06:21.149245Z",
     "start_time": "2025-03-26T12:06:21.118923Z"
    }
   },
   "source": [
    "import numpy as np\n",
    "import matplotlib.pyplot as plt\n",
    "\n",
    "import sys, os\n",
    "\n",
    "sys.path.insert(0, '/Users/sam/PycharmProjects/Quantum-Control/NewModule')\n",
    "from arc_sam import *  # Import ARC (Alkali Rydberg Calculator)\n",
    "atom = Calcium40()\n",
    "calc = StarkMap(atom)"
   ],
   "outputs": [],
   "execution_count": 10
  },
  {
   "cell_type": "code",
   "id": "1c3e3720f949896a",
   "metadata": {
    "ExecuteTime": {
     "end_time": "2025-03-26T12:06:22.459837Z",
     "start_time": "2025-03-26T12:06:22.293555Z"
    }
   },
   "source": [
    "n = 35\n",
    "l = 3\n",
    "j = 3\n",
    "mj = 0\n",
    "s = 0\n",
    "nmin = n - 1\n",
    "nmax = n + 1\n",
    "lmax = 5\n",
    "calc.defineBasis(n,l,j,mj,nmin,nmax,lmax,s=s)\n",
    "efield = [0,500,1000,2000]\n",
    "calc.diagonalise(efield, upTo=-1)"
   ],
   "outputs": [],
   "execution_count": 11
  },
  {
   "cell_type": "code",
   "id": "1879ddc593e0cfa3",
   "metadata": {
    "ExecuteTime": {
     "end_time": "2025-03-26T12:06:23.411920Z",
     "start_time": "2025-03-26T12:06:23.408971Z"
    }
   },
   "source": [
    "basis_size = len(calc.basisStates)\n",
    "new_basis = np.zeros_like(calc.basisStates)\n",
    "for k in range(basis_size):\n",
    "    new_basis[k] = calc.basisStates[calc.index_new_basis[k]]\n"
   ],
   "outputs": [],
   "execution_count": 12
  },
  {
   "cell_type": "code",
   "id": "77dd64d5561f3552",
   "metadata": {
    "ExecuteTime": {
     "end_time": "2025-03-26T12:06:26.292576Z",
     "start_time": "2025-03-26T12:06:26.288394Z"
    }
   },
   "source": [
    "# soit un atome de ca dans un etat 35F^3, on se demande ce qu'il se passe si on applique plusieurs pulse. Ici on ignore la partie temporelle du système.\n",
    "# comment on va fonctionner ?\n",
    "# 1. on applique le premier pulse F1 : ce pulse va impliquer un effet Stark, donc melange des niveaux atomiques (niveau stark)\n",
    "# 2. eteindre le champ electrique F1 : après avoir éteind directement le champ, les etats Stark vont se projeter directement sur les etats atomiques\n",
    "# 3. application d'un nouveau champ electrique F2 : cette fois, on prend les coefficients des niveaux Stark comme etat initial du système, et on regarde l'evolution des etats\n",
    "# eteindre le champ electrique F2.\n",
    "# etc....\n",
    "\n",
    "#_____________________________1.\n",
    "#on va faire un peu de recyclage et réutiliser les valeurs calculer précédemment. efield = 0.5,1.0,2.0\n",
    "initial_psi = np.zeros(len(calc.basisStates))\n",
    "# on doit aller pacer un 1 dans l'état qui correspond à notre état 35F3. on a déjà diagonaliser donc on doit aller chercher dans index_new basis.\n",
    "initial_psi[calc.index_new_basis[calc.indexOfCoupledState]] = 1\n",
    "total_population = np.zeros(4)\n",
    "for k in range(len(calc.basisStates)):\n",
    "    total_population[0] += initial_psi[k]\n",
    "#2.____________________________\n",
    "\n",
    "compo_stark_first_pulse = calc.composition[1] #composition give the decomposition of each stark state in atomic state\n",
    "#composition has all the stark level computed. Knowing we are in the specific stark state corresponding to the intial state, we can go take it in composition\n",
    "stark_state = compo_stark_first_pulse[calc.index_new_basis[calc.indexOfCoupledState]]\n",
    "projected_atomic_population = np.zeros(len(calc.basisStates))\n",
    "for k in range(len(calc.basisStates)):\n",
    "    to_index = stark_state[k][1]\n",
    "    c_nl = stark_state[k][0]\n",
    "    projected_atomic_population[to_index] += c_nl\n",
    "stark_state_first_pulse = projected_atomic_population\n",
    "abs_projected_atomic_population = np.abs(projected_atomic_population)\n",
    "for k in range(basis_size):\n",
    "    total_population[1] += abs_projected_atomic_population[k] ** 2\n",
    "k = 0\n",
    "non_zero_index = []\n",
    "\n"
   ],
   "outputs": [],
   "execution_count": 14
  },
  {
   "cell_type": "code",
   "id": "cbbdf89fa757a6e4",
   "metadata": {
    "ExecuteTime": {
     "end_time": "2025-03-26T12:06:28.023484Z",
     "start_time": "2025-03-26T12:06:28.018682Z"
    }
   },
   "source": [
    "#3.____________________________\n",
    "\n",
    "compo_stark_second_pulse = calc.composition[2]\n",
    "initial_psi = projected_atomic_population\n",
    "stark_sate_second_pulse = np.zeros(len(calc.basisStates))\n",
    "projected_atomic_population = np.zeros(len(calc.basisStates))\n",
    "for k in range(len(calc.basisStates)):\n",
    "    # the actual state is given by the formule : sum_i c_i * |i>\n",
    "    # where c_i is the coefficient of the stark state in the decomposition of the initial state\n",
    "    # and |i> is the ith basis state\n",
    "    # for this, we have to put another c_j in the formula, because of the projection on the stark state\n",
    "    if initial_psi[k] != 0:\n",
    "        corresponding_stark_state = compo_stark_second_pulse[calc.index_new_basis[k]]\n",
    "        for j in range(len(corresponding_stark_state)):\n",
    "            stark_sate_second_pulse[corresponding_stark_state[j][1]] += corresponding_stark_state[j][0] * initial_psi[k]\n",
    "    else:\n",
    "        pass\n",
    "\n",
    "projected_atomic_population = stark_sate_second_pulse\n",
    "abs_projected_atomic_population = np.abs(projected_atomic_population)\n",
    "for k in range(basis_size):\n",
    "    total_population[2] += abs_projected_atomic_population[k] ** 2\n",
    "\n",
    "#4______________\n",
    "#third pulse\n",
    "\n",
    "compo_stark_third_pulse = calc.composition[3]\n",
    "initial_psi_third_pulse = projected_atomic_population\n",
    "projected_atomic_population = np.zeros(len(calc.basisStates))\n",
    "stark_state_third_pulse = np.zeros(len(calc.basisStates))\n",
    "for k in range(len(calc.basisStates)):\n",
    "    # the actual state is given by the formule : sum_i c_i * |i>\n",
    "    # where c_i is the coefficient of the stark state in the decomposition of the initial state\n",
    "    # and |i> is the ith basis state\n",
    "    # for this, we have to put another c_j in the formula, because of the projection on the stark state\n",
    "    if initial_psi_third_pulse[k] != 0:\n",
    "        corresponding_stark_state = compo_stark_third_pulse[calc.index_new_basis[k]]\n",
    "        for j in range(len(corresponding_stark_state)):\n",
    "            stark_state_third_pulse[corresponding_stark_state[j][1]] += corresponding_stark_state[j][0] * initial_psi_third_pulse[k]\n",
    "           \n",
    "    else:\n",
    "        pass\n",
    "    \n",
    "\n",
    "projected_atomic_population = stark_state_third_pulse\n",
    "abs_projected_atomic_population = np.abs(projected_atomic_population)\n",
    "for k in range(basis_size):\n",
    "    total_population[3] += abs_projected_atomic_population[k] ** 2"
   ],
   "outputs": [],
   "execution_count": 15
  },
  {
   "cell_type": "code",
   "id": "5a5c1d64ba48e77c",
   "metadata": {
    "ExecuteTime": {
     "end_time": "2025-03-26T12:06:30.195130Z",
     "start_time": "2025-03-26T12:06:30.190550Z"
    }
   },
   "source": [
    "## vérficiation NECESSAIRE\n",
    "# regardons que, en effet, si on par de l'etat initial et qu'on va direct au dernier pulse, alors le résultat est différent (état final dépend bien des pulses précédents\n",
    "ini_test = np.zeros(len(calc.basisStates))\n",
    "ini_test[calc.index_new_basis[calc.indexOfCoupledState]] = 1\n",
    "compo_test = calc.composition[3]\n",
    "proj_test = np.zeros(len(calc.basisStates))\n",
    "for k in range(len(calc.basisStates)):\n",
    "    if ini_test[k] != 0:\n",
    "        corresponding_stark_state = compo_test[calc.index_new_basis[k]]\n",
    "        for j in range(len(corresponding_stark_state)):\n",
    "            proj_test[corresponding_stark_state[j][1]] += corresponding_stark_state[j][0] * ini_test[k]\n",
    "    else:\n",
    "        pass\n",
    "abs_proj_test = np.abs(proj_test)\n",
    "pop_test = 0\n",
    "for k in range(len(calc.basisStates)):\n",
    "    pop_test += abs_proj_test[k] ** 2\n",
    "print(pop_test)\n",
    "print(proj_test)"
   ],
   "outputs": [
    {
     "name": "stdout",
     "output_type": "stream",
     "text": [
      "1.0\n",
      "[ 4.63625003e-06  4.81038342e-05 -1.52210523e-02  7.27165857e-03\n",
      " -4.94076227e-02  1.24801579e-02 -4.69995534e-05 -9.30467521e-04\n",
      " -9.90858237e-03 -6.50210031e-01  6.47272727e-01 -3.94061489e-01]\n"
     ]
    }
   ],
   "execution_count": 16
  },
  {
   "cell_type": "code",
   "id": "d423ee613ffd3d63",
   "metadata": {
    "ExecuteTime": {
     "end_time": "2025-03-26T12:06:32.066849Z",
     "start_time": "2025-03-26T12:06:32.061381Z"
    }
   },
   "source": [
    "# Define the initial state in the atomic basis (e.g., 35F³ state)\n",
    "initial_psi = np.zeros(len(calc.basisStates))\n",
    "initial_psi[calc.indexOfCoupledState] = 1  # Set the initial state to the coupled state\n",
    "\n",
    "# Get the eigenvector matrix for the first electric field (F=500 V/cm)\n",
    "# Assuming calc.egvector[1] is a 1D array, reshape it into a column vector\n",
    "U_F1 = np.array(calc.egvector[1]).reshape(-1, 1)  # Shape: (69, 1)\n",
    "\n",
    "# Transform the initial state to the Stark basis\n",
    "psi_stark = U_F1.T @ initial_psi  # Shape: (1, 69) @ (69,) -> (1,)\n",
    "\n",
    "# After turning off the field, project back to the atomic basis\n",
    "projected_atomic_population = U_F1 @ psi_stark  # Shape: (69, 1) @ (1,) -> (69,)\n",
    "\n",
    "# Get the eigenvector matrix for the second electric field (F=1000 V/cm)\n",
    "U_F2 = np.array(calc.egvector[2]).reshape(-1, 1)  # Shape: (69, 1)\n",
    "\n",
    "# Use the projected atomic population as the new initial state\n",
    "initial_psi_second_pulse = projected_atomic_population\n",
    "\n",
    "# Transform to the Stark basis for the second pulse\n",
    "psi_stark_F2 = U_F2.T @ initial_psi_second_pulse  # Shape: (1, 69) @ (69,) -> (1,)\n",
    "\n",
    "# After turning off the field, project back to the atomic basis\n",
    "projected_atomic_population_F2 = U_F2 @ psi_stark_F2  # Shape: (69, 1) @ (1,) -> (69,)\n",
    "\n",
    "# Debugging output\n",
    "print(\"Initial state (atomic basis):\", initial_psi)\n",
    "print(\"Stark state after first pulse:\", psi_stark)\n",
    "print(\"Projected atomic population after first pulse:\", projected_atomic_population)\n",
    "print(\"Stark state after second pulse:\", psi_stark_F2)\n",
    "print(\"Projected atomic population after second pulse:\", projected_atomic_population_F2)\n",
    "\n",
    "U_F3 = np.array(calc.egvector[3]).reshape(-1, 1)\n",
    "initial_psi_third_pulse = projected_atomic_population\n",
    "psi_stark_F3 = U_F3.T @ initial_psi_third_pulse\n",
    "projected_atomic_population_F3 = U_F3 @ psi_stark_F3\n",
    "\n",
    "print(\"Stark state after third pulse:\", psi_stark_F3)\n",
    "print(\"Projected atomic population after third pulse:\", projected_atomic_population_F3)\n"
   ],
   "outputs": [
    {
     "name": "stdout",
     "output_type": "stream",
     "text": [
      "Initial state (atomic basis): [0. 0. 0. 0. 0. 0. 0. 0. 0. 1. 0. 0.]\n",
      "Stark state after first pulse: [0.92708408]\n",
      "Projected atomic population after first pulse: [-4.67281993e-07 -1.54785593e-05 -6.25134092e-05 -5.07149566e-03\n",
      " -4.62548678e-04  3.57229819e-03  2.27147815e-03  6.13024570e-03\n",
      "  7.71201494e-03  8.59484895e-01 -2.94005185e-01  1.84907131e-01]\n",
      "Stark state after second pulse: [-0.89225366]\n",
      "Projected atomic population after second pulse: [ 3.53794373e-06  5.79509630e-05  4.83302298e-04  9.66207207e-03\n",
      "  1.72609969e-03 -7.60178336e-03  7.51261844e-03 -8.63178841e-03\n",
      " -1.56598260e-02  7.07192730e-01 -4.74721702e-01  2.64771235e-01]\n",
      "Stark state after third pulse: [-0.82205901]\n",
      "Projected atomic population after third pulse: [ 2.44312621e-05  1.88788718e-04  3.43689271e-03  1.70161238e-02\n",
      "  5.77486598e-03 -1.65548183e-02 -1.49138664e-02  8.41620938e-03\n",
      "  3.22062120e-02  5.34511016e-01 -5.38255585e-01  3.13720600e-01]\n"
     ]
    }
   ],
   "execution_count": 17
  },
  {
   "cell_type": "code",
   "id": "6d1c23f97294d2e4",
   "metadata": {
    "ExecuteTime": {
     "end_time": "2025-03-26T12:06:34.576848Z",
     "start_time": "2025-03-26T12:06:34.569355Z"
    }
   },
   "source": [
    "# Define the initial state in the atomic basis (e.g., 35F³ state)\n",
    "initial_psi = np.zeros(len(calc.basisStates))\n",
    "initial_psi[calc.indexOfCoupledState] = 1  # Set the initial state to the coupled state\n",
    "hbar  = 1\n",
    "# Get the eigenvector matrix for the first electric field (F=500 V/cm)\n",
    "U_F1 = np.array(calc.egvector[1])  # Eigenvectors for F=500 V/cm (shape: (69, 69))\n",
    "\n",
    "# Transform the initial state to the Stark basis for the first pulse\n",
    "psi_stark = U_F1.T @ initial_psi  # Shape: (69, 69) @ (69,) -> (69,)\n",
    "\n",
    "# Perform calculations in the Stark basis (e.g., time evolution, pulses, etc.)\n",
    "# For example, evolve the state in time (assuming Hamiltonian is diagonal in Stark basis)\n",
    "energies = np.array(calc.y[1])  # Eigenvalues (energies) for F=500 V/cm\n",
    "time = 1.0  # Example time\n",
    "psi_stark_evolved = psi_stark * np.exp(-1j * energies * time / hbar)\n",
    "\n",
    "# Decompose the evolved Stark state into the atomic basis using calc.composition\n",
    "projected_atomic_population = np.zeros(len(calc.basisStates))\n",
    "for k, coefficient in enumerate(psi_stark_evolved):\n",
    "    for comp in calc.composition[1][k]:  # Decomposition for the i-th Stark state\n",
    "        atomic_state_index = comp[1]  # Index of the atomic basis state\n",
    "        atomic_state_coefficient = comp[0]  # Coefficient of the atomic basis state\n",
    "        projected_atomic_population[atomic_state_index] += coefficient * atomic_state_coefficient\n",
    "\n",
    "# Debugging output\n",
    "print(\"Initial state (atomic basis):\", initial_psi)\n",
    "print(\"Stark state after first pulse:\", psi_stark)\n",
    "print(\"Projected atomic population after evolution:\", projected_atomic_population)"
   ],
   "outputs": [
    {
     "name": "stdout",
     "output_type": "stream",
     "text": [
      "Initial state (atomic basis): [0. 0. 0. 0. 0. 0. 0. 0. 0. 1. 0. 0.]\n",
      "Stark state after first pulse: 0.9270840820708063\n",
      "Projected atomic population after evolution: [ 0.36911452 -0.51065461 -0.78992897 -0.64958873 -0.01798436 -1.13817249\n",
      "  0.35678732 -0.62025596  0.60084136  0.12670449 -0.94035563  0.19827799]\n"
     ]
    },
    {
     "name": "stderr",
     "output_type": "stream",
     "text": [
      "/var/folders/8l/xxl61m252sq_j4xxgx_ll1qr0000gn/T/ipykernel_69979/3803807815.py:23: ComplexWarning: Casting complex values to real discards the imaginary part\n",
      "  projected_atomic_population[atomic_state_index] += coefficient * atomic_state_coefficient\n"
     ]
    }
   ],
   "execution_count": 18
  },
  {
   "cell_type": "code",
   "id": "9157748193c6a3b1",
   "metadata": {
    "ExecuteTime": {
     "end_time": "2025-03-26T12:06:36.819625Z",
     "start_time": "2025-03-26T12:06:36.784551Z"
    }
   },
   "source": [
    "import numpy as np\n",
    "\n",
    "def simulate_pulses(calc, num_pulses=3):\n",
    "    # Initialize state in atomic basis\n",
    "    basis_size = len(calc.basisStates)\n",
    "    initial_psi = np.zeros(basis_size, dtype=np.complex128)\n",
    "\n",
    "    # Set initial state using index mapping\n",
    "    initial_psi[calc.index_new_basis[calc.indexOfCoupledState]] = 1.0 + 0j\n",
    "\n",
    "    # Store populations for each pulse\n",
    "    populations = []\n",
    "    total_population = []\n",
    "\n",
    "    current_state = initial_psi.copy()\n",
    "\n",
    "    for pulse_idx in range(num_pulses):\n",
    "        # Get pulse parameters (0: 0V/cm, 1:500V/cm, 2:1000V/cm, 3:2000V/cm)\n",
    "        egvector = np.array(calc.egvector[pulse_idx + 1], dtype=np.complex128)\n",
    "        composition = calc.composition[pulse_idx + 1]\n",
    "\n",
    "        # Transform to Stark basis\n",
    "        psi_stark = egvector.conj().T @ current_state\n",
    "\n",
    "        # Project back to atomic basis using composition data\n",
    "        projected = np.zeros(basis_size, dtype=np.complex128)\n",
    "\n",
    "        for stark_idx, (coeff, atomic_idx) in enumerate(composition):\n",
    "            if atomic_idx < basis_size:  # Ensure index is within bounds\n",
    "                projected[atomic_idx] += coeff * psi_stark[stark_idx]\n",
    "\n",
    "        # Calculate probabilities\n",
    "        prob = np.abs(projected) ** 2\n",
    "        total_prob = np.sum(prob)\n",
    "\n",
    "        # Store results\n",
    "        populations.append(prob)\n",
    "        total_population.append(total_prob)\n",
    "\n",
    "        # Set new initial state for next pulse\n",
    "        current_state = projected.copy()\n",
    "\n",
    "        # Debug output\n",
    "        print(f\"\\nAfter Pulse {pulse_idx+1} ({calc.eFieldList[pulse_idx+1]} V/cm):\")\n",
    "        print(f\"Total population: {total_prob:.6f}\")\n",
    "        print(f\"Max probability: {np.max(prob):.4f} at state {np.argmax(prob)}\")\n",
    "\n",
    "    return populations, total_population\n",
    "\n",
    "# Example usage\n",
    "populations, total_population = simulate_pulses(calc)\n",
    "\n",
    "# Additional analysis\n",
    "print(\"\\nFinal populations:\")\n",
    "for k, (pop, total) in enumerate(zip(populations, total_population)):\n",
    "    print(f\"Pulse {k + 1}: Total = {total:.6f}, Max = {np.max(pop):.4f}\")\n",
    "\n",
    "# Verify conservation of probability\n",
    "print(\"\\nProbability conservation:\")\n",
    "print(\"Initial:\", 1.0)\n",
    "print(\"After pulses:\", [f\"{t:.6f}\" for t in total_population])"
   ],
   "outputs": [
    {
     "ename": "ValueError",
     "evalue": "too many values to unpack (expected 2)",
     "output_type": "error",
     "traceback": [
      "\u001B[31m---------------------------------------------------------------------------\u001B[39m",
      "\u001B[31mValueError\u001B[39m                                Traceback (most recent call last)",
      "\u001B[36mCell\u001B[39m\u001B[36m \u001B[39m\u001B[32mIn[19]\u001B[39m\u001B[32m, line 51\u001B[39m\n\u001B[32m     48\u001B[39m     \u001B[38;5;28;01mreturn\u001B[39;00m populations, total_population\n\u001B[32m     50\u001B[39m \u001B[38;5;66;03m# Example usage\u001B[39;00m\n\u001B[32m---> \u001B[39m\u001B[32m51\u001B[39m populations, total_population = \u001B[43msimulate_pulses\u001B[49m\u001B[43m(\u001B[49m\u001B[43mcalc\u001B[49m\u001B[43m)\u001B[49m\n\u001B[32m     53\u001B[39m \u001B[38;5;66;03m# Additional analysis\u001B[39;00m\n\u001B[32m     54\u001B[39m \u001B[38;5;28mprint\u001B[39m(\u001B[33m\"\u001B[39m\u001B[38;5;130;01m\\n\u001B[39;00m\u001B[33mFinal populations:\u001B[39m\u001B[33m\"\u001B[39m)\n",
      "\u001B[36mCell\u001B[39m\u001B[36m \u001B[39m\u001B[32mIn[19]\u001B[39m\u001B[32m, line 28\u001B[39m, in \u001B[36msimulate_pulses\u001B[39m\u001B[34m(calc, num_pulses)\u001B[39m\n\u001B[32m     25\u001B[39m \u001B[38;5;66;03m# Project back to atomic basis using composition data\u001B[39;00m\n\u001B[32m     26\u001B[39m projected = np.zeros(basis_size, dtype=np.complex128)\n\u001B[32m---> \u001B[39m\u001B[32m28\u001B[39m \u001B[38;5;28;01mfor\u001B[39;00m stark_idx, (coeff, atomic_idx) \u001B[38;5;129;01min\u001B[39;00m \u001B[38;5;28menumerate\u001B[39m(composition):\n\u001B[32m     29\u001B[39m     \u001B[38;5;28;01mif\u001B[39;00m atomic_idx < basis_size:  \u001B[38;5;66;03m# Ensure index is within bounds\u001B[39;00m\n\u001B[32m     30\u001B[39m         projected[atomic_idx] += coeff * psi_stark[stark_idx]\n",
      "\u001B[31mValueError\u001B[39m: too many values to unpack (expected 2)"
     ]
    }
   ],
   "execution_count": 19
  }
 ],
 "metadata": {
  "kernelspec": {
   "display_name": "pymem",
   "language": "python",
   "name": "python3"
  },
  "language_info": {
   "codemirror_mode": {
    "name": "ipython",
    "version": 3
   },
   "file_extension": ".py",
   "mimetype": "text/x-python",
   "name": "python",
   "nbconvert_exporter": "python",
   "pygments_lexer": "ipython3",
   "version": "3.13.1"
  }
 },
 "nbformat": 4,
 "nbformat_minor": 5
}
