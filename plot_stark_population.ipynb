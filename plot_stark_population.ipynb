{
 "cells": [
  {
   "cell_type": "code",
   "id": "initial_id",
   "metadata": {
    "collapsed": true,
    "ExecuteTime": {
     "end_time": "2025-06-03T23:27:28.422884Z",
     "start_time": "2025-06-03T23:27:27.812579Z"
    }
   },
   "source": [
    "import numpy as np\n",
    "import matplotlib.pyplot as plt\n",
    "\n",
    "import sys, os\n",
    "import cmath as cm\n",
    "import pathlib\n",
    "from numpy.ma.core import shape\n",
    "\n",
    "sys.path.insert(0, '/Users/sam/PycharmProjects/Quantum-Control/NewModule')\n",
    "\n",
    "from NewModule.arc.PulseClass import Pulse\n",
    "from PulseFunction import apply_pulse_stark, apply_pulse, change_stark_basis\n",
    "from arc import *  # Import ARC (Alkali Rydberg Calculator)"
   ],
   "outputs": [],
   "execution_count": 1
  },
  {
   "cell_type": "code",
   "id": "6f3bb3e1ec1fff9",
   "metadata": {
    "ExecuteTime": {
     "end_time": "2025-06-04T00:45:33.948573Z",
     "start_time": "2025-06-04T00:45:33.652174Z"
    }
   },
   "source": [
    "calc = StarkMap(Calcium40())\n",
    "#x%matplotlib qt\n",
    "\n",
    "# Target state\n",
    "n0 = 35\n",
    "l0 = 3\n",
    "j0 = 3\n",
    "mj0 = 0\n",
    "s0 = 0\n",
    " # Define max/min n values in basis\n",
    "nmin = n0 - 1\n",
    "nmax = n0 + 2\n",
    "\n",
    "\n",
    "# Maximum value of l to include (l~20 gives good convergence for states with l<5)\n",
    "lmax = nmax-1\n",
    "\n",
    "# Initialise Basis States for Solver : progressOutput=True gives verbose output\n",
    "calc.defineBasis(n0, l0, j0, mj0, nmin, nmax, lmax, progressOutput=True, s=s0)\n",
    "\n",
    "Emin = 0 # Min E field (V/m)\n",
    "Emax = 10  # Max E field (V/m)\n",
    "N = 2  # Number of Points\n",
    "E_array = np.linspace(Emin, Emax, N)  # E field array\n",
    "# Generate Stark Map\n",
    "calc.diagonalise(E_array, progressOutput=True,debugOutput=True, upTo = -1)\n",
    "binary_matrix_diagonal = 'bi_diagonal.npy'"
   ],
   "outputs": [
    {
     "name": "stdout",
     "output_type": "stream",
     "text": [
      "4.0 0.0 0.0 0.0 0.0\n",
      "4.0 1.0 0.0 1.0 15157.901\n",
      "4.0 1.0 1.0 1.0 15210.063\n",
      "4.0 1.0 2.0 1.0 15315.943\n",
      "4.0 1.0 1.0 0.0 23652.304\n",
      "5.0 0.0 1.0 1.0 31539.495\n",
      "5.0 0.0 0.0 0.0 33317.264\n",
      "5.0 1.0 0.0 1.0 36547.688\n",
      "5.0 1.0 1.0 1.0 36554.749\n",
      "5.0 1.0 2.0 1.0 36575.119\n",
      "5.0 1.0 1.0 0.0 36731.615\n",
      "4.0 2.0 2.0 0.0 37298.287\n",
      "4.0 2.0 1.0 1.0 37748.197\n",
      "4.0 2.0 2.0 1.0 37751.867\n",
      "4.0 2.0 3.0 1.0 37757.449\n",
      "5.0 2.0 2.0 0.0 42919.053\n",
      "6.0 2.0 2.0 0.0 44989.83\n",
      "7.0 2.0 2.0 0.0 46200.13\n",
      "8.0 2.0 2.0 0.0 46948.98\n",
      "9.0 2.0 2.0 0.0 47812.39\n",
      "10.0 2.0 2.0 0.0 48083.41\n",
      "11.0 2.0 2.0 0.0 48290.85\n",
      "12.0 2.0 2.0 0.0 48451.73\n",
      "13.0 2.0 2.0 0.0 48578.32\n",
      "14.0 2.0 2.0 0.0 48678.97\n",
      "15.0 2.0 2.0 0.0 48760.14\n",
      "16.0 2.0 2.0 0.0 48827.05\n",
      "17.0 2.0 2.0 0.0 48882.37\n",
      "18.0 2.0 2.0 0.0 48928.79\n",
      "19.0 2.0 2.0 0.0 48968.1\n",
      "20.0 2.0 2.0 0.0 49001.66\n",
      "20.0 3.0 3.0 0.0 49028.943\n",
      "21.0 2.0 2.0 0.0 49030.55\n",
      "21.0 3.0 3.0 0.0 49054.802\n",
      "22.0 2.0 2.0 0.0 49055.62\n",
      "22.0 3.0 3.0 0.0 49077.203\n",
      "23.0 3.0 3.0 0.0 49096.736\n",
      "23.0 2.0 2.0 0.0 49096.52\n",
      "24.0 3.0 3.0 0.0 49113.869\n",
      "26.0 2.0 2.0 0.0 49128.34\n",
      "25.0 3.0 3.0 0.0 49128.981\n",
      "27.0 2.0 2.0 0.0 49141.63\n",
      "26.0 3.0 3.0 0.0 49142.378\n",
      "28.0 2.0 2.0 0.0 49153.49\n",
      "27.0 3.0 3.0 0.0 49154.309\n",
      "29.0 2.0 2.0 0.0 49164.12\n",
      "28.0 3.0 3.0 0.0 49164.979\n",
      "30.0 2.0 2.0 0.0 49173.7\n",
      "29.0 3.0 3.0 0.0 49174.563\n",
      "31.0 2.0 2.0 0.0 49182.36\n",
      "30.0 3.0 3.0 0.0 49183.202\n",
      "32.0 2.0 2.0 0.0 49190.17\n",
      "31.0 3.0 3.0 0.0 49191.014\n",
      "33.0 2.0 2.0 0.0 49197.3\n",
      "32.0 3.0 3.0 0.0 49198.105\n",
      "34.0 2.0 2.0 0.0 49203.78\n",
      "33.0 3.0 3.0 0.0 49204.558\n",
      "35.0 2.0 2.0 0.0 49209.68\n",
      "34.0 3.0 3.0 0.0 49210.45\n",
      "36.0 2.0 2.0 0.0 49215.11\n",
      "35.0 3.0 3.0 0.0 49215.842\n",
      "37.0 2.0 2.0 0.0 49220.1\n",
      "36.0 3.0 3.0 0.0 49220.79\n",
      "38.0 2.0 2.0 0.0 49224.7\n",
      "37.0 3.0 3.0 0.0 49225.341\n",
      "39.0 2.0 2.0 0.0 49228.92\n",
      "38.0 3.0 3.0 0.0 49229.537\n",
      "40.0 2.0 2.0 0.0 49232.81\n",
      "39.0 3.0 3.0 0.0 49233.414\n",
      "41.0 2.0 2.0 0.0 49236.45\n",
      "40.0 3.0 3.0 0.0 49237.002\n",
      "42.0 2.0 2.0 0.0 49239.8\n",
      "41.0 3.0 3.0 0.0 49240.331\n",
      "43.0 2.0 2.0 0.0 49242.93\n",
      "42.0 3.0 3.0 0.0 49243.425\n",
      "44.0 2.0 2.0 0.0 49245.8\n",
      "43.0 3.0 3.0 0.0 49246.304\n",
      "45.0 2.0 2.0 0.0 49248.52\n",
      "44.0 3.0 3.0 0.0 49248.989\n",
      "46.0 2.0 2.0 0.0 49251.05\n",
      "45.0 3.0 3.0 0.0 49251.496\n",
      "47.0 2.0 2.0 0.0 49253.4\n",
      "46.0 3.0 3.0 0.0 49253.842\n",
      "48.0 2.0 2.0 0.0 49255.64\n",
      "47.0 3.0 3.0 0.0 49256.04\n",
      "49.0 2.0 2.0 0.0 49257.74\n",
      "48.0 3.0 3.0 0.0 49258.1\n",
      "50.0 2.0 2.0 0.0 49259.68\n",
      "49.0 3.0 3.0 0.0 49260.036\n",
      "51.0 2.0 2.0 0.0 49261.51\n",
      "50.0 3.0 3.0 0.0 49261.857\n",
      "52.0 2.0 2.0 0.0 49263.31\n",
      "51.0 3.0 3.0 0.0 49263.571\n",
      "53.0 2.0 2.0 0.0 49264.77\n",
      "52.0 3.0 3.0 0.0 49265.187\n",
      "54.0 2.0 2.0 0.0 49266.36\n",
      "53.0 3.0 3.0 0.0 49266.713\n",
      "55.0 2.0 2.0 0.0 49267.84\n",
      "54.0 3.0 3.0 0.0 49268.155\n",
      "56.0 2.0 2.0 0.0 49269.33\n",
      "55.0 3.0 3.0 0.0 49269.518\n",
      "57.0 2.0 2.0 0.0 49270.4\n",
      "56.0 3.0 3.0 0.0 49270.808\n",
      "58.0 2.0 2.0 0.0 49271.79\n",
      "57.0 3.0 3.0 0.0 49272.032\n",
      "59.0 2.0 2.0 0.0 49273.09\n",
      "58.0 3.0 3.0 0.0 49273.193\n",
      "60.0 2.0 2.0 0.0 49274.29\n",
      "59.0 3.0 3.0 0.0 49274.295\n",
      "61.0 2.0 2.0 0.0 49275.58\n",
      "60.0 3.0 3.0 0.0 49275.342\n",
      "62.0 2.0 2.0 0.0 49275.87\n",
      "61.0 3.0 3.0 0.0 49276.338\n",
      "62.0 3.0 3.0 0.0 49277.286\n",
      "63.0 3.0 3.0 0.0 49278.19\n",
      "64.0 3.0 3.0 0.0 49279.05\n",
      "65.0 3.0 3.0 0.0 49279.872\n",
      "66.0 3.0 3.0 0.0 49280.657\n",
      "67.0 3.0 3.0 0.0 49281.406\n",
      "68.0 3.0 3.0 0.0 49282.124\n",
      "69.0 3.0 3.0 0.0 49282.809\n",
      "70.0 3.0 3.0 0.0 49283.466\n",
      "71.0 3.0 3.0 0.0 49284.095\n",
      "72.0 3.0 3.0 0.0 49284.698\n",
      "73.0 3.0 3.0 0.0 49285.277\n",
      "74.0 3.0 3.0 0.0 49285.831\n",
      "75.0 3.0 3.0 0.0 49286.364\n",
      "76.0 3.0 3.0 0.0 49286.876\n",
      "77.0 3.0 3.0 0.0 49287.369\n",
      "78.0 3.0 3.0 0.0 49287.842\n",
      "79.0 3.0 3.0 0.0 49288.297\n",
      "80.0 3.0 3.0 0.0 49288.736\n",
      "81.0 3.0 3.0 0.0 49289.158\n",
      "82.0 3.0 3.0 0.0 49289.565\n",
      "83.0 3.0 3.0 0.0 49289.957\n",
      "84.0 3.0 3.0 0.0 49290.335\n",
      "85.0 3.0 3.0 0.0 49290.701\n",
      "86.0 3.0 3.0 0.0 49291.053\n",
      "87.0 3.0 3.0 0.0 49291.393\n",
      "88.0 3.0 3.0 0.0 49291.722\n",
      "89.0 3.0 3.0 0.0 49292.04\n",
      "90.0 3.0 3.0 0.0 49292.347\n",
      "91.0 3.0 3.0 0.0 49292.643\n",
      "92.0 3.0 3.0 0.0 49292.931\n",
      "93.0 3.0 3.0 0.0 49293.209\n",
      "94.0 3.0 3.0 0.0 49293.478\n",
      "95.0 3.0 3.0 0.0 49293.74\n",
      "96.0 3.0 3.0 0.0 49293.992\n",
      "97.0 3.0 3.0 0.0 49294.237\n",
      "98.0 3.0 3.0 0.0 49294.475\n",
      "99.0 3.0 3.0 0.0 49294.705\n",
      "100.0 3.0 3.0 0.0 49294.929\n",
      "101.0 3.0 3.0 0.0 49295.146\n",
      "102.0 3.0 3.0 0.0 49295.356\n",
      "103.0 3.0 3.0 0.0 49295.561\n",
      "104.0 3.0 3.0 0.0 49295.759\n",
      "105.0 3.0 3.0 0.0 49295.952\n",
      "106.0 3.0 3.0 0.0 49296.139\n",
      "107.0 3.0 3.0 0.0 49296.321\n",
      "108.0 3.0 3.0 0.0 49296.499\n",
      "109.0 3.0 3.0 0.0 49296.671\n",
      "110.0 3.0 3.0 0.0 49296.838\n",
      "111.0 3.0 3.0 0.0 49297.002\n",
      "112.0 3.0 3.0 0.0 49297.16\n",
      "113.0 3.0 3.0 0.0 49297.315\n",
      "114.0 3.0 3.0 0.0 49297.465\n",
      "115.0 3.0 3.0 0.0 49297.612\n",
      "116.0 3.0 3.0 0.0 49297.755\n",
      "117.0 3.0 3.0 0.0 49297.894\n",
      "118.0 3.0 3.0 0.0 49298.03\n",
      "119.0 3.0 3.0 0.0 49298.161\n",
      "120.0 3.0 3.0 0.0 49298.29\n",
      "121.0 3.0 3.0 0.0 49298.416\n",
      "122.0 3.0 3.0 0.0 49298.539\n",
      "123.0 3.0 3.0 0.0 49298.659\n",
      "124.0 3.0 3.0 0.0 49298.776\n",
      "125.0 3.0 3.0 0.0 49298.889\n",
      "126.0 3.0 3.0 0.0 49299.0\n",
      "127.0 3.0 3.0 0.0 49299.11\n",
      "128.0 3.0 3.0 0.0 49299.216\n",
      "129.0 3.0 3.0 0.0 49299.319\n",
      "130.0 3.0 3.0 0.0 49299.421\n",
      "131.0 3.0 3.0 0.0 49299.52\n",
      "132.0 3.0 3.0 0.0 49299.616\n",
      "133.0 3.0 3.0 0.0 49299.71\n",
      "134.0 3.0 3.0 0.0 49299.803\n",
      "135.0 3.0 3.0 0.0 49299.893\n",
      "136.0 3.0 3.0 0.0 49299.982\n",
      "137.0 3.0 3.0 0.0 49300.068\n",
      "138.0 3.0 3.0 0.0 49300.153\n",
      "139.0 3.0 3.0 0.0 49300.235\n",
      "140.0 3.0 3.0 0.0 49300.316\n",
      "141.0 3.0 3.0 0.0 49300.396\n",
      "142.0 3.0 3.0 0.0 49300.473\n",
      "143.0 3.0 3.0 0.0 49300.549\n",
      "144.0 3.0 3.0 0.0 49300.624\n",
      "145.0 3.0 3.0 0.0 49300.696\n",
      "146.0 3.0 3.0 0.0 49300.768\n",
      "147.0 3.0 3.0 0.0 49300.838\n",
      "148.0 3.0 3.0 0.0 49300.906\n",
      "149.0 3.0 3.0 0.0 49300.973\n",
      "150.0 3.0 3.0 0.0 49301.039\n",
      "Found  105  states.\n",
      "Generating matrix...\n",
      "1%<class 'int'>\n",
      "0 <class 'int'>\n",
      "3%<class 'int'>\n",
      "0 <class 'int'>\n",
      "5%<class 'int'>\n",
      "0 <class 'int'>\n",
      "7%<class 'int'>\n",
      "0 <class 'int'>\n",
      "9%<class 'int'>\n",
      "0 <class 'int'>\n",
      "11%<class 'int'>\n",
      "0 <class 'int'>\n",
      "12%<class 'int'>\n",
      "0 <class 'int'>\n",
      "14%<class 'int'>\n",
      "0 <class 'int'>\n",
      "16%<class 'int'>\n",
      "0 <class 'int'>\n",
      "18%<class 'int'>\n",
      "0 <class 'int'>\n",
      "19%<class 'int'>\n",
      "0 <class 'int'>\n",
      "21%<class 'int'>\n",
      "0 <class 'int'>\n",
      "23%<class 'int'>\n",
      "0 <class 'int'>\n",
      "24%<class 'int'>\n",
      "0 <class 'int'>\n",
      "26%<class 'int'>\n",
      "0 <class 'int'>\n",
      "28%<class 'int'>\n",
      "0 <class 'int'>\n",
      "29%<class 'int'>\n",
      "0 <class 'int'>\n",
      "31%<class 'int'>\n",
      "0 <class 'int'>\n",
      "32%<class 'int'>\n",
      "0 <class 'int'>\n",
      "34%<class 'int'>\n",
      "0 <class 'int'>\n",
      "36%<class 'int'>\n",
      "0 <class 'int'>\n",
      "37%<class 'int'>\n",
      "0 <class 'int'>\n",
      "39%<class 'int'>\n",
      "0 <class 'int'>\n",
      "40%<class 'int'>\n",
      "0 <class 'int'>\n",
      "41%<class 'int'>\n",
      "0 <class 'int'>\n",
      "43%<class 'int'>\n",
      "0 <class 'int'>\n",
      "44%<class 'int'>\n",
      "0 <class 'int'>\n",
      "46%<class 'int'>\n",
      "0 <class 'int'>\n",
      "47%<class 'int'>\n",
      "0 <class 'int'>\n",
      "48%<class 'int'>\n",
      "0 <class 'int'>\n",
      "50%<class 'int'>\n",
      "0 <class 'int'>\n",
      "51%<class 'int'>\n",
      "0 <class 'int'>\n",
      "52%<class 'int'>\n",
      "0 <class 'int'>\n",
      "54%<class 'int'>\n",
      "0 <class 'int'>\n",
      "55%<class 'int'>\n",
      "0 <class 'int'>\n",
      "56%<class 'int'>\n",
      "0 <class 'int'>\n",
      "58%<class 'int'>\n",
      "0 <class 'int'>\n",
      "59%<class 'int'>\n",
      "0 <class 'int'>\n",
      "60%<class 'int'>\n",
      "0 <class 'int'>\n",
      "61%<class 'int'>\n",
      "0 <class 'int'>\n",
      "62%<class 'int'>\n",
      "0 <class 'int'>\n",
      "64%<class 'int'>\n",
      "0 <class 'int'>\n",
      "65%<class 'int'>\n",
      "0 <class 'int'>\n",
      "66%<class 'int'>\n",
      "0 <class 'int'>\n",
      "67%<class 'int'>\n",
      "0 <class 'int'>\n",
      "68%<class 'int'>\n",
      "0 <class 'int'>\n",
      "69%<class 'int'>\n",
      "0 <class 'int'>\n",
      "70%<class 'int'>\n",
      "0 <class 'int'>\n",
      "71%<class 'int'>\n",
      "0 <class 'int'>\n",
      "72%<class 'int'>\n",
      "0 <class 'int'>\n",
      "73%<class 'int'>\n",
      "0 <class 'int'>\n",
      "74%<class 'int'>\n",
      "0 <class 'int'>\n",
      "75%<class 'int'>\n",
      "0 <class 'int'>\n",
      "76%<class 'int'>\n",
      "0 <class 'int'>\n",
      "77%<class 'int'>\n",
      "0 <class 'int'>\n",
      "78%<class 'int'>\n",
      "0 <class 'int'>\n",
      "79%<class 'int'>\n",
      "0 <class 'int'>\n",
      "79%<class 'int'>\n",
      "0 <class 'int'>\n",
      "80%<class 'int'>\n",
      "0 <class 'int'>\n",
      "81%<class 'int'>\n",
      "0 <class 'int'>\n",
      "82%<class 'int'>\n",
      "0 <class 'int'>\n",
      "83%<class 'int'>\n",
      "0 <class 'int'>\n",
      "84%<class 'int'>\n",
      "0 <class 'int'>\n",
      "84%<class 'int'>\n",
      "0 <class 'int'>\n",
      "85%<class 'int'>\n",
      "0 <class 'int'>\n",
      "86%<class 'int'>\n",
      "0 <class 'int'>\n",
      "86%<class 'int'>\n",
      "0 <class 'int'>\n",
      "87%<class 'int'>\n",
      "0 <class 'int'>\n",
      "88%<class 'int'>\n",
      "0 <class 'int'>\n",
      "88%<class 'int'>\n",
      "0 <class 'int'>\n",
      "89%<class 'int'>\n",
      "0 <class 'int'>\n",
      "90%<class 'int'>\n",
      "0 <class 'int'>\n",
      "90%<class 'int'>\n",
      "0 <class 'int'>\n",
      "91%<class 'int'>\n",
      "0 <class 'int'>\n",
      "91%<class 'int'>\n",
      "0 <class 'int'>\n",
      "92%<class 'int'>\n",
      "0 <class 'int'>\n",
      "92%<class 'int'>\n",
      "0 <class 'int'>\n",
      "93%<class 'int'>\n",
      "0 <class 'int'>\n",
      "93%<class 'int'>\n",
      "0 <class 'int'>\n",
      "94%<class 'int'>\n",
      "0 <class 'int'>\n",
      "94%<class 'int'>\n",
      "0 <class 'int'>\n",
      "95%<class 'int'>\n",
      "0 <class 'int'>\n",
      "95%<class 'int'>\n",
      "0 <class 'int'>\n",
      "96%<class 'int'>\n",
      "0 <class 'int'>\n",
      "96%<class 'int'>\n",
      "0 <class 'int'>\n",
      "96%<class 'int'>\n",
      "0 <class 'int'>\n",
      "97%<class 'int'>\n",
      "0 <class 'int'>\n",
      "97%<class 'int'>\n",
      "0 <class 'int'>\n",
      "97%<class 'int'>\n",
      "0 <class 'int'>\n",
      "97%<class 'int'>\n",
      "0 <class 'int'>\n",
      "98%<class 'int'>\n",
      "0 <class 'int'>\n",
      "98%<class 'int'>\n",
      "0 <class 'int'>\n",
      "98%<class 'int'>\n",
      "0 <class 'int'>\n",
      "98%<class 'int'>\n",
      "0 <class 'int'>\n",
      "99%<class 'int'>\n",
      "0 <class 'int'>\n",
      "99%<class 'int'>\n",
      "0 <class 'int'>\n",
      "99%<class 'int'>\n",
      "0 <class 'int'>\n",
      "99%<class 'int'>\n",
      "0 <class 'int'>\n",
      "99%<class 'int'>\n",
      "0 <class 'int'>\n",
      "99%<class 'int'>\n",
      "0 <class 'int'>\n",
      "99%<class 'int'>\n",
      "0 <class 'int'>\n",
      "99%<class 'int'>\n",
      "0 <class 'int'>\n",
      "99%<class 'int'>\n",
      "0 <class 'int'>\n",
      "99%<class 'int'>\n",
      "0 <class 'int'>\n",
      "100%<class 'int'>\n",
      "0 <class 'int'>\n",
      "\n",
      "\n",
      "Finding eigenvectors...\n",
      "100%\n",
      "\n"
     ]
    }
   ],
   "execution_count": 4
  },
  {
   "cell_type": "markdown",
   "id": "c7009831",
   "metadata": {},
   "source": [
    "Each stark state can be written as a sum over the atomic states $\\ket{i}=\\sum_k \\ket{k}$. The idea is too see what is the most interesting stark state, meaning what is the stark state that has the highest coefficient associated to the level we are interested in.\n"
   ]
  },
  {
   "cell_type": "code",
   "id": "091796b8",
   "metadata": {
    "ExecuteTime": {
     "end_time": "2025-05-29T12:47:08.342299Z",
     "start_time": "2025-05-29T12:47:08.340713Z"
    }
   },
   "source": [
    "pulse = Pulse(E_array[1],1)\n",
    "psi_ini = np.zeros(len(calc.basisStates))\n",
    "psi_ini[calc.indexOfCoupledState] = 1\n",
    "back_to_atomic = Pulse(0,0)"
   ],
   "outputs": [],
   "execution_count": 3
  },
  {
   "metadata": {},
   "cell_type": "markdown",
   "source": "ATTENTION : POUR QUE LA COMMANDE PULSE.INDEF_OF_AMPLITUDE FONCTIONNE, IL FAUT DES PULSES SUR TOUS LES VALEURS DE CHAMPS ELECTRIQUES CALCULEES.",
   "id": "3fc6866400ffbaf5"
  },
  {
   "metadata": {
    "ExecuteTime": {
     "end_time": "2025-05-29T12:47:08.349865Z",
     "start_time": "2025-05-29T12:47:08.347943Z"
    }
   },
   "cell_type": "code",
   "source": [
    "print(psi_ini)\n",
    "print(pulse.index_of_amplitude())\n",
    "print(back_to_atomic.index_of_amplitude())"
   ],
   "id": "1511229db999c910",
   "outputs": [
    {
     "name": "stdout",
     "output_type": "stream",
     "text": [
      "[0. 0. 0. 1. 0. 0.]\n",
      "1\n",
      "0\n"
     ]
    }
   ],
   "execution_count": 4
  },
  {
   "metadata": {
    "ExecuteTime": {
     "end_time": "2025-05-29T12:47:08.360419Z",
     "start_time": "2025-05-29T12:47:08.358903Z"
    }
   },
   "cell_type": "code",
   "source": [
    "psi_out_stay_stark = apply_pulse_stark(psi_ini,pulse,calc)\n",
    "psi_out_back_to_atomic = change_stark_basis(psi_out_stay_stark,pulse.index_of_amplitude(),back_to_atomic.index_of_amplitude(),calc=calc)"
   ],
   "id": "fa93b2e679ff1479",
   "outputs": [],
   "execution_count": 5
  },
  {
   "metadata": {
    "ExecuteTime": {
     "end_time": "2025-05-29T12:47:08.372234Z",
     "start_time": "2025-05-29T12:47:08.370452Z"
    }
   },
   "cell_type": "code",
   "source": [
    "from PulseFunction import total_population, state_population\n",
    "total = total_population(psi_out_back_to_atomic)\n",
    "print(total[3])"
   ],
   "id": "33a0226815a0ffcc",
   "outputs": [
    {
     "name": "stdout",
     "output_type": "stream",
     "text": [
      "0.9999645082809502\n"
     ]
    }
   ],
   "execution_count": 6
  },
  {
   "metadata": {
    "ExecuteTime": {
     "end_time": "2025-05-29T12:47:08.385849Z",
     "start_time": "2025-05-29T12:47:08.384197Z"
    }
   },
   "cell_type": "code",
   "source": "print(total[3])",
   "id": "fc36aa9be13d14a",
   "outputs": [
    {
     "name": "stdout",
     "output_type": "stream",
     "text": [
      "0.9999645082809502\n"
     ]
    }
   ],
   "execution_count": 7
  },
  {
   "metadata": {
    "ExecuteTime": {
     "end_time": "2025-05-29T12:47:10.102366Z",
     "start_time": "2025-05-29T12:47:10.099798Z"
    }
   },
   "cell_type": "code",
   "source": [
    "from PulseFunction import create_basis_change\n",
    "matrix = create_basis_change(pulse,back_to_atomic,calc)\n",
    "print(matrix)\n"
   ],
   "id": "8cc10837752c17cc",
   "outputs": [
    {
     "name": "stdout",
     "output_type": "stream",
     "text": [
      "[[-9.99992397e-01  3.89723811e-03 -5.94348311e-06  1.03558697e-06\n",
      "  -1.31902504e-04 -2.50251444e-07]\n",
      " [ 3.89723796e-03  9.99987935e-01 -2.96750635e-03  3.59036398e-04\n",
      "   5.99582293e-06 -7.81744924e-05]\n",
      " [-6.22125549e-06 -2.96747128e-03 -9.99985262e-01 -8.36258792e-05\n",
      "   4.54558899e-03  1.46800796e-06]\n",
      " [ 4.20090132e-07 -3.59325672e-04 -1.09586146e-04  9.99982254e-01\n",
      "  -5.94563641e-03 -1.58458498e-06]\n",
      " [ 1.31897751e-04 -5.90402484e-06 -4.54501489e-03 -5.94607574e-03\n",
      "  -9.99971895e-01 -4.23004703e-04]\n",
      " [ 1.10218236e-07  7.81758212e-05 -6.86734855e-07 -9.02470721e-07\n",
      "  -4.23008513e-04  9.99999907e-01]]\n"
     ]
    }
   ],
   "execution_count": 8
  },
  {
   "metadata": {},
   "cell_type": "markdown",
   "source": "On check que x*x^-1 est bien l'identité.",
   "id": "715da8f34ffdf287"
  },
  {
   "metadata": {
    "ExecuteTime": {
     "end_time": "2025-05-29T12:56:12.777756Z",
     "start_time": "2025-05-29T12:56:12.767987Z"
    }
   },
   "cell_type": "code",
   "source": [
    "inv_matrix = np.linalg.inv(matrix)\n",
    "print(inv_matrix)"
   ],
   "id": "214c1c72b43ed70",
   "outputs": [
    {
     "name": "stdout",
     "output_type": "stream",
     "text": [
      "[[-9.99992397e-01  3.89723796e-03 -6.22125549e-06  4.20090132e-07\n",
      "   1.31897751e-04  1.10218236e-07]\n",
      " [ 3.89723811e-03  9.99987935e-01 -2.96747128e-03 -3.59325672e-04\n",
      "  -5.90402484e-06  7.81758212e-05]\n",
      " [-5.94348311e-06 -2.96750635e-03 -9.99985262e-01 -1.09586146e-04\n",
      "  -4.54501489e-03 -6.86734855e-07]\n",
      " [ 1.03558697e-06  3.59036398e-04 -8.36258792e-05  9.99982254e-01\n",
      "  -5.94607574e-03 -9.02470721e-07]\n",
      " [-1.31902504e-04  5.99582293e-06  4.54558899e-03 -5.94563641e-03\n",
      "  -9.99971895e-01 -4.23008513e-04]\n",
      " [-2.50251444e-07 -7.81744924e-05  1.46800796e-06 -1.58458498e-06\n",
      "  -4.23004703e-04  9.99999907e-01]]\n"
     ]
    }
   ],
   "execution_count": 9
  },
  {
   "metadata": {
    "ExecuteTime": {
     "end_time": "2025-05-29T12:59:14.044788Z",
     "start_time": "2025-05-29T12:59:14.037645Z"
    }
   },
   "cell_type": "code",
   "source": [
    "a = matrix @ inv_matrix\n",
    "b = inv_matrix @ matrix"
   ],
   "id": "18d8eb690fc3968f",
   "outputs": [],
   "execution_count": 10
  },
  {
   "metadata": {},
   "cell_type": "code",
   "outputs": [],
   "execution_count": null,
   "source": "",
   "id": "cbd7c36a236af948"
  },
  {
   "metadata": {},
   "cell_type": "markdown",
   "source": [
    "On veut vérifier que apply pulse, qui fait un pulse carre, partant de la base ato va dans une base stark, evolue et retourne dans base ato. On a maintenant un apply pulse stark qui reste dans cetetat stark. Et on a moyen de creer la matrice de changement de base entre stark et atomique. DONC\n",
    "apply pulse devrait etre egal a apply pulse stark + change basis"
   ],
   "id": "e6c8ce4bcb6e2206"
  },
  {
   "metadata": {
    "ExecuteTime": {
     "end_time": "2025-05-29T13:14:33.047963Z",
     "start_time": "2025-05-29T13:14:33.027309Z"
    }
   },
   "cell_type": "code",
   "source": [
    "psi_out = apply_pulse(psi_in=psi_ini,pulse=pulse,calc=calc)\n",
    "print(psi_out)\n"
   ],
   "id": "b6ea411e461061f3",
   "outputs": [
    {
     "name": "stdout",
     "output_type": "stream",
     "text": [
      "[ 7.26045674e-06+1.70031518e-05j  3.81560210e-03+2.76698355e-03j\n",
      "  5.47618414e-05+7.78933916e-05j  9.99651314e-01-2.57463579e-02j\n",
      " -1.41902451e-03-3.18397713e-03j  9.43353658e-08-2.19539633e-06j]\n"
     ]
    }
   ],
   "execution_count": 13
  },
  {
   "metadata": {
    "ExecuteTime": {
     "end_time": "2025-05-29T13:15:25.889675Z",
     "start_time": "2025-05-29T13:15:25.880975Z"
    }
   },
   "cell_type": "code",
   "source": [
    "x = total_population(psi_out)\n",
    "print(x)"
   ],
   "id": "8ca205adeaded2df",
   "outputs": [
    {
     "name": "stdout",
     "output_type": "stream",
     "text": [
      "[3.41821402e-10 2.22150173e-05 9.06623973e-09 9.99965624e-01\n",
      " 1.21513409e-05 4.82866421e-12]\n"
     ]
    }
   ],
   "execution_count": 14
  },
  {
   "metadata": {
    "ExecuteTime": {
     "end_time": "2025-05-29T13:17:29.949481Z",
     "start_time": "2025-05-29T13:17:29.943169Z"
    }
   },
   "cell_type": "code",
   "source": [
    "psi_out_test = np.dot(matrix,psi_out)\n",
    "print(psi_out_test)"
   ],
   "id": "3245fb03c11bd5e6",
   "outputs": [
    {
     "name": "stdout",
     "output_type": "stream",
     "text": [
      "[ 8.83198163e-06-5.82657922e-06j  4.17432455e-03+2.75752248e-03j\n",
      " -1.56130791e-04-9.84232864e-05j  9.99640634e-01-2.57279730e-02j\n",
      " -4.52528831e-03+3.33661024e-03j  9.06897827e-08-6.09051771e-07j]\n"
     ]
    }
   ],
   "execution_count": 15
  },
  {
   "metadata": {
    "ExecuteTime": {
     "end_time": "2025-05-29T13:18:04.429126Z",
     "start_time": "2025-05-29T13:18:04.416406Z"
    }
   },
   "cell_type": "code",
   "source": [
    "y = total_population(psi_out_test)\n",
    "print(y)"
   ],
   "id": "855f76059b203554",
   "outputs": [
    {
     "name": "stdout",
     "output_type": "stream",
     "text": [
      "[1.11952925e-10 2.50289156e-05 3.40639673e-08 9.99943326e-01\n",
      " 3.16112022e-05 3.79168697e-13]\n"
     ]
    }
   ],
   "execution_count": 16
  },
  {
   "metadata": {},
   "cell_type": "markdown",
   "source": "On remarque que les résultats sont quelque peu différents, pourquoi ?",
   "id": "11835a986c3577f8"
  },
  {
   "metadata": {
    "ExecuteTime": {
     "end_time": "2025-05-29T15:07:47.224248Z",
     "start_time": "2025-05-29T15:07:47.209663Z"
    }
   },
   "cell_type": "code",
   "source": [
    "#transfo to stark basis\n",
    "psi_in_stark2 = np.dot(inv_matrix,psi_ini)\n",
    "print(psi_in_stark2)"
   ],
   "id": "5b58c366c8d57e9f",
   "outputs": [
    {
     "name": "stdout",
     "output_type": "stream",
     "text": [
      "[ 1.03558697e-06  3.59036398e-04 -8.36258792e-05  9.99982254e-01\n",
      " -5.94607574e-03 -9.02470721e-07]\n",
      "[ 4.20090132e-07 -3.59325672e-04 -1.09586146e-04  9.99982254e-01\n",
      " -5.94563641e-03 -1.58458498e-06]\n"
     ]
    }
   ],
   "execution_count": 18
  },
  {
   "metadata": {},
   "cell_type": "markdown",
   "source": "This is the initial state but transformed in the Stark basis. Now we just need to apply pulse stark",
   "id": "7e2453b8474fb3e9"
  },
  {
   "metadata": {
    "ExecuteTime": {
     "end_time": "2025-05-29T15:08:20.092078Z",
     "start_time": "2025-05-29T15:08:20.077456Z"
    }
   },
   "cell_type": "code",
   "source": [
    "#evolution\n",
    "a = apply_pulse_stark(psi_in_stark2,pulse,calc)\n",
    "# go back to atomic\n",
    "final_psi = np.dot(matrix,a)\n",
    "print(final_psi)"
   ],
   "id": "3b0cd776d11709fa",
   "outputs": [
    {
     "name": "stdout",
     "output_type": "stream",
     "text": [
      "[1.52265892e-06-5.58991650e-07j 2.59461989e-04+2.11158663e-05j\n",
      " 5.42463059e-05+9.10640945e-05j 4.35475387e-01-9.00198750e-01j\n",
      " 1.49886015e-03+1.03518807e-03j 2.05112839e-06-2.40522801e-06j]\n"
     ]
    }
   ],
   "execution_count": 19
  },
  {
   "metadata": {},
   "cell_type": "markdown",
   "source": "",
   "id": "388454822ab919fd"
  },
  {
   "metadata": {
    "ExecuteTime": {
     "end_time": "2025-05-29T15:09:30.409263Z",
     "start_time": "2025-05-29T15:09:30.397774Z"
    }
   },
   "cell_type": "code",
   "source": [
    "result = total_population(final_psi)\n",
    "print(result)"
   ],
   "id": "30cbc6e5c8ce49c0",
   "outputs": [
    {
     "name": "stdout",
     "output_type": "stream",
     "text": [
      "[2.63096184e-12 6.77664038e-08 1.12353310e-08 9.99996603e-01\n",
      " 3.31819608e-06 9.99224947e-12]\n"
     ]
    }
   ],
   "execution_count": 20
  }
 ],
 "metadata": {
  "kernelspec": {
   "display_name": "Python 3",
   "language": "python",
   "name": "python3"
  },
  "language_info": {
   "codemirror_mode": {
    "name": "ipython",
    "version": 3
   },
   "file_extension": ".py",
   "mimetype": "text/x-python",
   "name": "python",
   "nbconvert_exporter": "python",
   "pygments_lexer": "ipython3",
   "version": "3.10.15"
  }
 },
 "nbformat": 4,
 "nbformat_minor": 5
}
